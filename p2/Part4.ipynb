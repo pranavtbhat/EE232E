{
 "cells": [
  {
   "cell_type": "markdown",
   "metadata": {},
   "source": [
    "Similarly, remove all movies with less than 5 actors/actresses on list, construct\n",
    "a movie network according to the set of actors/actresses, with weight assigned\n",
    "as the jaccard index of the actor sets of 2 movies. Now we have an undirected\n",
    "network instead."
   ]
  },
  {
   "cell_type": "code",
   "execution_count": 1,
   "metadata": {
    "collapsed": false
   },
   "outputs": [],
   "source": [
    "from tqdm import tqdm_notebook as timer\n",
    "import re\n",
    "import string\n",
    "from collections import defaultdict"
   ]
  },
  {
   "cell_type": "code",
   "execution_count": 2,
   "metadata": {
    "collapsed": false
   },
   "outputs": [
    {
     "name": "stdout",
     "output_type": "stream",
     "text": [
      "\n"
     ]
    }
   ],
   "source": [
    "A = {}\n",
    "M = {}\n",
    "\n",
    "def clean_string(s):\n",
    "    # Remove (*)\n",
    "    s = re.sub(r'\\([^0-9]+\\)', '', s)\n",
    "\n",
    "    # Remove {*}\n",
    "    s = re.sub(r'\\{.*\\}', '', s)\n",
    "    \n",
    "    # Remove multiple spaces\n",
    "    s = re.sub(r'\\s+', ' ', s)\n",
    "\n",
    "    # Strip spaces etc\n",
    "    s = s.lstrip()\n",
    "    s = s.rstrip()\n",
    "\n",
    "    return s\n",
    "\n",
    "with open(\"movie_map.txt\", \"r\") as f:\n",
    "    for line in timer(f, total = 30396, desc=\"movie_map\"):\n",
    "        splits = line.split(\"\\t\\t\")\n",
    "        \n",
    "        actor_name = splits[0]\n",
    "        \n",
    "        actor_name = splits[0]\n",
    "        movies = set(map(clean_string, splits[1:]))\n",
    "        \n",
    "        if actor_name in A:\n",
    "            A[actor_name] = A[actor_name].union(movies)\n",
    "        else:\n",
    "            A[actor_name] = movies\n",
    "\n",
    "        for movie in movies:\n",
    "            if movie not in M:\n",
    "                M[movie] = [actor_name]\n",
    "            else:\n",
    "                M[movie].append(actor_name)"
   ]
  },
  {
   "cell_type": "code",
   "execution_count": 3,
   "metadata": {
    "collapsed": false
   },
   "outputs": [],
   "source": [
    "M = {movie : set(actors) for (movie, actors) in M.iteritems()}"
   ]
  },
  {
   "cell_type": "markdown",
   "metadata": {},
   "source": [
    "# Create a movie network"
   ]
  },
  {
   "cell_type": "code",
   "execution_count": 4,
   "metadata": {
    "collapsed": false
   },
   "outputs": [
    {
     "name": "stdout",
     "output_type": "stream",
     "text": [
      "\n"
     ]
    }
   ],
   "source": [
    "with open(\"movie_network.txt\", \"w\") as f:\n",
    "    for (m1, actors) in timer(M.iteritems(), total=len( M.keys() )):\n",
    "        edges = set()\n",
    "        \n",
    "        for a in actors:\n",
    "            for m2 in A[a]:\n",
    "                common = M[m1].intersection(M[m2])\n",
    "                \n",
    "                w = float( len( common ) ) / (len(M[m1]) + len(M[m2]) + len(common))\n",
    "                \n",
    "                edges.add( (m2, w) )\n",
    "        \n",
    "        for (m2, w) in edges:\n",
    "            f.write(\"%s\\t%s\\t%f\\n\" % (m1, m2, w))"
   ]
  },
  {
   "cell_type": "code",
   "execution_count": 5,
   "metadata": {
    "collapsed": false,
    "scrolled": true
   },
   "outputs": [
    {
     "name": "stdout",
     "output_type": "stream",
     "text": [
      " 55035189 movie_network.txt\n"
     ]
    }
   ],
   "source": [
    "%%bash\n",
    "# number of edges\n",
    "wc -l movie_network.txt"
   ]
  },
  {
   "cell_type": "markdown",
   "metadata": {},
   "source": [
    "# Process the movie genres"
   ]
  },
  {
   "cell_type": "code",
   "execution_count": 6,
   "metadata": {
    "collapsed": false
   },
   "outputs": [
    {
     "name": "stdout",
     "output_type": "stream",
     "text": [
      "\n"
     ]
    }
   ],
   "source": [
    "G = {}\n",
    "printable = set(string.printable)\n",
    "\n",
    "def clean_string(s):\n",
    "    # Remove (*)\n",
    "    s = re.sub(r'\\([^0-9]+\\)', '', s)\n",
    "\n",
    "    # Remove {*}\n",
    "    s = re.sub(r'\\{.*\\}', '', s)\n",
    "    \n",
    "    # Remove multiple spaces\n",
    "    s = re.sub(r'\\s+', ' ', s)\n",
    "\n",
    "    # Strip spaces etc\n",
    "    s = s.lstrip()\n",
    "    s = s.rstrip()\n",
    "\n",
    "    return s\n",
    "\n",
    "with open(\"data/movie_genre.txt\") as f:\n",
    "    for line in timer(f, total=1010991, desc=\"Movie Genres\"):\n",
    "        line = filter(lambda x : x in printable, line.decode('latin1')).encode('ascii')\n",
    "        \n",
    "        splits = line.split('\\t\\t')\n",
    "        movie = clean_string(splits[0])\n",
    "        genre = clean_string(splits[1])\n",
    "        \n",
    "        if movie in M:\n",
    "            G[movie] = genre"
   ]
  },
  {
   "cell_type": "code",
   "execution_count": 7,
   "metadata": {
    "collapsed": false
   },
   "outputs": [],
   "source": [
    "# For unidentified movies \n",
    "for m in set(M.keys()).difference(set(G.keys())):\n",
    "    G[m] = \"Unknown\""
   ]
  },
  {
   "cell_type": "code",
   "execution_count": 8,
   "metadata": {
    "collapsed": false
   },
   "outputs": [],
   "source": [
    "with open(\"genres.txt\", \"w\") as f:\n",
    "    for (movie, genre) in G.iteritems():\n",
    "        f.write(\"%s\\t%s\\n\" % (movie, genre))"
   ]
  },
  {
   "cell_type": "markdown",
   "metadata": {},
   "source": [
    "# Write graph in Metis format"
   ]
  },
  {
   "cell_type": "code",
   "execution_count": 9,
   "metadata": {
    "collapsed": true
   },
   "outputs": [],
   "source": [
    "M = {movie : set(actors) for (movie, actors) in M.iteritems()}"
   ]
  },
  {
   "cell_type": "code",
   "execution_count": 10,
   "metadata": {
    "collapsed": true
   },
   "outputs": [],
   "source": [
    "vmap = {movie : i + 1 for (i, movie) in enumerate(M.keys())}\n",
    "rmap = {i + 1 : movie for (i, movie) in enumerate(M.keys())}"
   ]
  },
  {
   "cell_type": "code",
   "execution_count": 11,
   "metadata": {
    "collapsed": false
   },
   "outputs": [
    {
     "name": "stdout",
     "output_type": "stream",
     "text": [
      "35537/|/ 70%|| 35537/50833 [03:40<01:34, 161.25it/s]\n"
     ]
    }
   ],
   "source": [
    "edges = defaultdict(set)\n",
    "\n",
    "for (m1, actors) in timer(M.iteritems(), total=len( M.keys() )):\n",
    "    u = vmap[m1]\n",
    "\n",
    "    for a in actors:\n",
    "        for m2 in A[a]:\n",
    "            v = vmap[m2]\n",
    "\n",
    "            if u != v and u not in edges[v]:\n",
    "                common = M[m1].intersection(M[m2])\n",
    "                \n",
    "                # Metis cannot handle fractional weights. WTF?? \n",
    "                w = (len( common ) * 1000) / (len(M[m1]) + len(M[m2]) + len(common))\n",
    "                edges[u].add( (v, w) )"
   ]
  },
  {
   "cell_type": "code",
   "execution_count": 12,
   "metadata": {
    "collapsed": false
   },
   "outputs": [
    {
     "data": {
      "text/plain": [
       "50833"
      ]
     },
     "execution_count": 12,
     "metadata": {},
     "output_type": "execute_result"
    }
   ],
   "source": [
    "len( edges.keys() )"
   ]
  },
  {
   "cell_type": "code",
   "execution_count": 15,
   "metadata": {
    "collapsed": false
   },
   "outputs": [],
   "source": [
    "with open(\"metis/graph.txt\", \"w\") as f:\n",
    "    f.write(\"%d %d %d\\n\" % ( len( edges.keys() ),  sum( map(len, edges.values()) ) / 2, 1)) # Replace with number of edges\n",
    "    for m in M.keys():\n",
    "        f.write(' '.join(map(lambda x : str(x[0]) + \" \" + str(x[1]), edges[vmap[m]])) + \"\\n\")"
   ]
  },
  {
   "cell_type": "code",
   "execution_count": 18,
   "metadata": {
    "collapsed": false
   },
   "outputs": [
    {
     "name": "stdout",
     "output_type": "stream",
     "text": [
      "******************************************************************************\n",
      "METIS 5.0 Copyright 1998-13, Regents of the University of Minnesota\n",
      " (HEAD: , Built on: Oct 13 2016, 16:46:05)\n",
      " size of idx_t: 32bits, real_t: 32bits, idx_t *: 64bits\n",
      "\n",
      "Graph Information -----------------------------------------------------------\n",
      " Name: metis/graph.txt, #Vertices: 50833, #Edges: 27492178, #Parts: 2\n",
      "\n",
      "Options ---------------------------------------------------------------------\n",
      " ptype=kway, objtype=cut, ctype=shem, rtype=greedy, iptype=metisrb\n",
      " dbglvl=0, ufactor=1.030, no2hop=NO, minconn=NO, contig=NO, nooutput=NO\n",
      " seed=-1, niter=10, ncuts=1\n",
      "\n",
      "Direct k-way Partitioning ---------------------------------------------------\n",
      " - Edgecut: 8591371, communication volume: 38287.\n",
      "\n",
      " - Balance:\n",
      "     constraint #0:  1.002 out of 0.000\n",
      "\n",
      " - Most overweight partition:\n",
      "     pid: 1, actual: 25461, desired: 25416, ratio: 1.00.\n",
      "\n",
      " - Subdomain connectivity: max: 1, min: 1, avg: 1.00\n",
      "\n",
      " - Each partition is contiguous.\n",
      "\n",
      "Timing Information ----------------------------------------------------------\n",
      "  I/O:          \t\t   5.098 sec\n",
      "  Partitioning: \t\t   2.469 sec   (METIS time)\n",
      "  Reporting:    \t\t   0.447 sec\n",
      "\n",
      "Memory Information ----------------------------------------------------------\n",
      "  Max memory used:\t\t 747.962 MB\n",
      "******************************************************************************\n"
     ]
    }
   ],
   "source": [
    "%%bash\n",
    "\n",
    "# Run metis on the metis graph file generated in Part 4\n",
    "gpmetis metis/graph.txt 2"
   ]
  }
 ],
 "metadata": {
  "anaconda-cloud": {},
  "kernelspec": {
   "display_name": "Python [conda root]",
   "language": "python",
   "name": "conda-root-py"
  },
  "language_info": {
   "codemirror_mode": {
    "name": "ipython",
    "version": 2
   },
   "file_extension": ".py",
   "mimetype": "text/x-python",
   "name": "python",
   "nbconvert_exporter": "python",
   "pygments_lexer": "ipython2",
   "version": "2.7.13"
  },
  "widgets": {
   "state": {
    "39b556c435ef49739547f3cc17ef186f": {
     "views": [
      {
       "cell_index": 8
      }
     ]
    },
    "3d46d9e624fb40f98f8b692b6e6f387e": {
     "views": [
      {
       "cell_index": 2
      }
     ]
    },
    "456b67e08dd24e8c9b41501f0af536bd": {
     "views": [
      {
       "cell_index": 14
      }
     ]
    },
    "eb7af406ab2e49878089cae24ae6e8f2": {
     "views": [
      {
       "cell_index": 5
      }
     ]
    }
   },
   "version": "1.2.0"
  }
 },
 "nbformat": 4,
 "nbformat_minor": 2
}
