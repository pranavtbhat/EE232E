{
 "cells": [
  {
   "cell_type": "markdown",
   "metadata": {},
   "source": [
    "Do a community finding on the movie network; use the Fast Greedy Newman\n",
    "algorithm. Tag each community with the genres that appear in 20% or more of\n",
    "the movies in the community. Are these tags meaningful?"
   ]
  },
  {
   "cell_type": "code",
   "execution_count": 3,
   "metadata": {
    "collapsed": false
   },
   "outputs": [
    {
     "name": "stderr",
     "output_type": "stream",
     "text": [
      "Warning message:\n",
      "“package ‘data.table’ was built under R version 3.3.2”"
     ]
    },
    {
     "name": "stdout",
     "output_type": "stream",
     "text": [
      "\n",
      "This data.table install has not detected OpenMP support. It will work but slower in single threaded mode.\n",
      "\n"
     ]
    },
    {
     "name": "stderr",
     "output_type": "stream",
     "text": [
      "\n",
      "Attaching package: ‘igraph’\n",
      "\n",
      "The following objects are masked from ‘package:stats’:\n",
      "\n",
      "    decompose, spectrum\n",
      "\n",
      "The following object is masked from ‘package:base’:\n",
      "\n",
      "    union\n",
      "\n"
     ]
    }
   ],
   "source": [
    "library(data.table)\n",
    "library(igraph)"
   ]
  },
  {
   "cell_type": "markdown",
   "metadata": {},
   "source": [
    "# Read graph from dataframe"
   ]
  },
  {
   "cell_type": "code",
   "execution_count": 3,
   "metadata": {
    "collapsed": false
   },
   "outputs": [
    {
     "name": "stdout",
     "output_type": "stream",
     "text": [
      "\r",
      "Read 0.0% of 55035189 rows\r",
      "Read 3.0% of 55035189 rows\r",
      "Read 6.0% of 55035189 rows\r",
      "Read 8.5% of 55035189 rows\r",
      "Read 11.3% of 55035189 rows\r",
      "Read 14.2% of 55035189 rows\r",
      "Read 16.8% of 55035189 rows\r",
      "Read 19.5% of 55035189 rows\r",
      "Read 21.9% of 55035189 rows\r",
      "Read 24.6% of 55035189 rows\r",
      "Read 27.1% of 55035189 rows\r",
      "Read 29.5% of 55035189 rows\r",
      "Read 32.2% of 55035189 rows\r",
      "Read 35.3% of 55035189 rows\r",
      "Read 38.2% of 55035189 rows\r",
      "Read 41.2% of 55035189 rows\r",
      "Read 44.3% of 55035189 rows\r",
      "Read 47.2% of 55035189 rows\r",
      "Read 49.8% of 55035189 rows\r",
      "Read 52.9% of 55035189 rows\r",
      "Read 55.8% of 55035189 rows\r",
      "Read 58.7% of 55035189 rows\r",
      "Read 61.4% of 55035189 rows\r",
      "Read 64.1% of 55035189 rows\r",
      "Read 66.9% of 55035189 rows\r",
      "Read 69.7% of 55035189 rows\r",
      "Read 72.5% of 55035189 rows\r",
      "Read 75.3% of 55035189 rows\r",
      "Read 78.0% of 55035189 rows\r",
      "Read 80.8% of 55035189 rows\r",
      "Read 83.7% of 55035189 rows\r",
      "Read 86.5% of 55035189 rows\r",
      "Read 89.4% of 55035189 rows\r",
      "Read 92.1% of 55035189 rows\r",
      "Read 94.5% of 55035189 rows\r",
      "Read 97.1% of 55035189 rows\r",
      "Read 99.4% of 55035189 rows\r",
      "Read 55035189 rows and 3 (of 3) columns from 3.039 GB file in 00:00:46\n"
     ]
    }
   ],
   "source": [
    "gframe = fread(file=\"movie_network.txt\")"
   ]
  },
  {
   "cell_type": "code",
   "execution_count": 4,
   "metadata": {
    "collapsed": true
   },
   "outputs": [],
   "source": [
    "colnames(gframe) = c(\"node1\", \"node2\", \"weight\")"
   ]
  },
  {
   "cell_type": "code",
   "execution_count": 5,
   "metadata": {
    "collapsed": true
   },
   "outputs": [],
   "source": [
    "g = simplify( graph.data.frame(gframe, directed=FALSE) )"
   ]
  },
  {
   "cell_type": "code",
   "execution_count": 6,
   "metadata": {
    "collapsed": false
   },
   "outputs": [],
   "source": [
    "names = V(g)$name"
   ]
  },
  {
   "cell_type": "code",
   "execution_count": 7,
   "metadata": {
    "collapsed": false
   },
   "outputs": [
    {
     "data": {
      "text/html": [
       "50833"
      ],
      "text/latex": [
       "50833"
      ],
      "text/markdown": [
       "50833"
      ],
      "text/plain": [
       "[1] 50833"
      ]
     },
     "metadata": {},
     "output_type": "display_data"
    }
   ],
   "source": [
    "# Number of vertices\n",
    "vcount(g)"
   ]
  },
  {
   "cell_type": "code",
   "execution_count": 8,
   "metadata": {
    "collapsed": false
   },
   "outputs": [
    {
     "data": {
      "text/html": [
       "27492178"
      ],
      "text/latex": [
       "27492178"
      ],
      "text/markdown": [
       "27492178"
      ],
      "text/plain": [
       "[1] 27492178"
      ]
     },
     "metadata": {},
     "output_type": "display_data"
    }
   ],
   "source": [
    "# Number of edges\n",
    "ecount(g)"
   ]
  },
  {
   "cell_type": "markdown",
   "metadata": {},
   "source": [
    "# Read genre list as dataframe and set movie name to be the index"
   ]
  },
  {
   "cell_type": "code",
   "execution_count": 9,
   "metadata": {
    "collapsed": true
   },
   "outputs": [],
   "source": [
    "genres = fread(file=\"genres.txt\", header=FALSE)"
   ]
  },
  {
   "cell_type": "code",
   "execution_count": 10,
   "metadata": {
    "collapsed": true
   },
   "outputs": [],
   "source": [
    "setkey(genres, V1)"
   ]
  },
  {
   "cell_type": "code",
   "execution_count": 11,
   "metadata": {
    "collapsed": false
   },
   "outputs": [],
   "source": [
    "V(g)$genre = genres[names, ]$V2"
   ]
  },
  {
   "cell_type": "markdown",
   "metadata": {},
   "source": [
    "# Community Detection\n",
    "\n",
    "This task takes way too long, unless I somehow reduce the graph size. I used metis, more specifically, gpmetis, to cut the graphs into 5 smaller graphs, while minimizing edge cut weights. "
   ]
  },
  {
   "cell_type": "code",
   "execution_count": 25,
   "metadata": {
    "collapsed": true
   },
   "outputs": [],
   "source": [
    "V(g)$comm.id = rep(-1, vcount(g))"
   ]
  },
  {
   "cell_type": "markdown",
   "metadata": {},
   "source": [
    "## METIS FTW"
   ]
  },
  {
   "cell_type": "code",
   "execution_count": 36,
   "metadata": {
    "collapsed": true
   },
   "outputs": [],
   "source": [
    "parts = fread(file=\"metis/graph.txt.part.3\")$V1"
   ]
  },
  {
   "cell_type": "code",
   "execution_count": 37,
   "metadata": {
    "collapsed": false
   },
   "outputs": [],
   "source": [
    "cum_com = 0\n",
    "for(i in unique(parts)){\n",
    "    pi = which(parts == i)\n",
    "    gi = induced_subgraph(g, pi)\n",
    "    comms = cluster_fast_greedy(gi, weights = E(gi)$weight)\n",
    "    \n",
    "    V(g)$comm.id[pi] = comms$membership + cum_com\n",
    "    \n",
    "    cum_com = cum_com + length( unique( comms$membership ) )\n",
    "}"
   ]
  },
  {
   "cell_type": "code",
   "execution_count": 7,
   "metadata": {
    "collapsed": false
   },
   "outputs": [
    {
     "data": {
      "text/plain": [
       "\n",
       "   1    2    3    4    5    6    7    8    9   10   11   12   13   14   15   16 \n",
       "1261  886 2673 1211  973 2790  150  196  461 4697  492  622  116  925 1504 2528 \n",
       "  17   18   19   20   21   22   23   24   25   26   27   28   29   30   31   32 \n",
       "2487  486  958  400  511  806  183 1170 4564  624  162  115 1421  335  595  835 \n",
       "  33   34   35   36   37   38   39   40   41   42   43 \n",
       "2682 2581  398  218 1001  547 4559  136  110  607  857 "
      ]
     },
     "metadata": {},
     "output_type": "display_data"
    }
   ],
   "source": [
    "table(V(g)$comm.id)"
   ]
  },
  {
   "cell_type": "code",
   "execution_count": 1,
   "metadata": {
    "collapsed": true
   },
   "outputs": [],
   "source": [
    "g = readRDS(\"rfiles/g.rds\")"
   ]
  },
  {
   "cell_type": "code",
   "execution_count": 15,
   "metadata": {
    "collapsed": false
   },
   "outputs": [],
   "source": [
    "V(g)$comm.desc = rep(NA, vcount(g))\n",
    "\n",
    "for(x in unique(V(g)$comm.id)){\n",
    "    vs = which(V(g)$comm.id == x)\n",
    "    genres = V(g)$genre[vs]\n",
    "    ugenres = unique(genres)\n",
    "    frequency = table(genres)\n",
    "    gthan = ugenres[ sapply(ugenres, function(x){ frequency[x] / sum(frequency) > 0.15 }) ]\n",
    "    desc = do.call(paste, c(as.list(gthan), sep=\",\", collapse=\"\"))\n",
    "    V(g)$comm.desc[vs] = rep(desc, length( vs ))\n",
    "}"
   ]
  },
  {
   "cell_type": "code",
   "execution_count": 17,
   "metadata": {
    "collapsed": true
   },
   "outputs": [],
   "source": [
    "# Save this graph for later\n",
    "saveRDS(g, \"rfiles/g.rds\")"
   ]
  },
  {
   "cell_type": "markdown",
   "metadata": {},
   "source": [
    "# Full graph community detection. #YOLO"
   ]
  },
  {
   "cell_type": "code",
   "execution_count": 1,
   "metadata": {
    "collapsed": true
   },
   "outputs": [],
   "source": [
    "g = readRDS(\"rfiles/g.rds\")"
   ]
  },
  {
   "cell_type": "code",
   "execution_count": 4,
   "metadata": {
    "collapsed": false
   },
   "outputs": [],
   "source": [
    "comms = cluster_fast_greedy(g, weights = E(g)$weight)"
   ]
  },
  {
   "cell_type": "code",
   "execution_count": 5,
   "metadata": {
    "collapsed": true
   },
   "outputs": [],
   "source": [
    "saveRDS(comms, \"rfiles/comm.rds\")"
   ]
  },
  {
   "cell_type": "code",
   "execution_count": 6,
   "metadata": {
    "collapsed": true
   },
   "outputs": [],
   "source": [
    "V(g)$comm.id = comms$membership"
   ]
  },
  {
   "cell_type": "code",
   "execution_count": 7,
   "metadata": {
    "collapsed": false
   },
   "outputs": [
    {
     "data": {
      "text/plain": [
       "\n",
       "    1     2     3     4     5     6     7     8     9    10    11    12 \n",
       " 1683  7598  5085   980  7919  3000  2550  1549  1859  3600   594 14416 "
      ]
     },
     "metadata": {},
     "output_type": "display_data"
    }
   ],
   "source": [
    "table(V(g)$comm.id)"
   ]
  },
  {
   "cell_type": "code",
   "execution_count": 45,
   "metadata": {
    "collapsed": true
   },
   "outputs": [],
   "source": [
    "V(g)$comm.desc = rep(NA, vcount(g))\n",
    "\n",
    "for(x in unique(V(g)$comm.id)){\n",
    "    vs = which(V(g)$comm.id == x)\n",
    "    genres = V(g)$genre[vs]\n",
    "    ugenres = unique(genres)\n",
    "    frequency = table(genres)\n",
    "    gthan = ugenres[ sapply(ugenres, function(x){ frequency[x] / sum(frequency) > 0.18}) ]\n",
    "    desc = do.call(paste, c(as.list(gthan), sep=\",\", collapse=\"\"))\n",
    "    V(g)$comm.desc[vs] = rep(desc, length( vs ))\n",
    "}"
   ]
  },
  {
   "cell_type": "code",
   "execution_count": 47,
   "metadata": {
    "collapsed": true
   },
   "outputs": [],
   "source": [
    "# Save this graph for later\n",
    "saveRDS(g, \"rfiles/g.rds\")"
   ]
  }
 ],
 "metadata": {
  "anaconda-cloud": {},
  "kernelspec": {
   "display_name": "R",
   "language": "R",
   "name": "ir"
  },
  "language_info": {
   "codemirror_mode": "r",
   "file_extension": ".r",
   "mimetype": "text/x-r-source",
   "name": "R",
   "pygments_lexer": "r",
   "version": "3.3.1"
  }
 },
 "nbformat": 4,
 "nbformat_minor": 2
}
