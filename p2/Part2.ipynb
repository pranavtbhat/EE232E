{
 "cells": [
  {
   "cell_type": "code",
   "execution_count": 6,
   "metadata": {
    "collapsed": true
   },
   "outputs": [],
   "source": [
    "from tqdm import tqdm as timer\n",
    "import re"
   ]
  },
  {
   "cell_type": "markdown",
   "metadata": {},
   "source": [
    "# Read in data from previous phase"
   ]
  },
  {
   "cell_type": "code",
   "execution_count": 8,
   "metadata": {
    "collapsed": false
   },
   "outputs": [
    {
     "name": "stderr",
     "output_type": "stream",
     "text": [
      "movie_map:  77%|███████▋  | 30396/39443 [00:08<00:02, 3739.03it/s]\n"
     ]
    }
   ],
   "source": [
    "A = {}\n",
    "M = {}\n",
    "\n",
    "def clean_string(s):\n",
    "    # Remove (*)\n",
    "    s = re.sub(r'\\([^0-9]+\\)', '', s)\n",
    "\n",
    "    # Remove {*}\n",
    "    s = re.sub(r'\\{.*\\}', '', s)\n",
    "    \n",
    "    # Remove multiple spaces\n",
    "    s = re.sub(r'\\s+', ' ', s)\n",
    "\n",
    "    # Strip spaces etc\n",
    "    s = s.lstrip()\n",
    "    s = s.rstrip()\n",
    "\n",
    "    return s\n",
    "\n",
    "with open(\"movie_map.txt\", \"r\") as f:\n",
    "    for line in timer(f, total = 30396, desc=\"movie_map\"):\n",
    "        splits = line.split(\"\\t\\t\")\n",
    "        \n",
    "        actor_name = splits[0]\n",
    "        \n",
    "        actor_name = splits[0]\n",
    "        movies = set(map(clean_string, splits[1:]))\n",
    "        \n",
    "        if actor_name in A:\n",
    "            A[actor_name] = A[actor_name].union(movies)\n",
    "        else:\n",
    "            A[actor_name] = movies\n",
    "\n",
    "        for movie in movies:\n",
    "            if movie not in M:\n",
    "                M[movie] = [actor_name]\n",
    "            else:\n",
    "                M[movie].append(actor_name)"
   ]
  },
  {
   "cell_type": "code",
   "execution_count": 9,
   "metadata": {
    "collapsed": false
   },
   "outputs": [
    {
     "data": {
      "text/plain": [
       "30396"
      ]
     },
     "execution_count": 9,
     "metadata": {},
     "output_type": "execute_result"
    }
   ],
   "source": [
    "# Number of actors\n",
    "len(A.keys())"
   ]
  },
  {
   "cell_type": "code",
   "execution_count": 10,
   "metadata": {
    "collapsed": false
   },
   "outputs": [
    {
     "data": {
      "text/plain": [
       "50833"
      ]
     },
     "execution_count": 10,
     "metadata": {},
     "output_type": "execute_result"
    }
   ],
   "source": [
    "# Number of movies\n",
    "len(M.keys())"
   ]
  },
  {
   "cell_type": "code",
   "execution_count": 11,
   "metadata": {
    "collapsed": false
   },
   "outputs": [
    {
     "name": "stderr",
     "output_type": "stream",
     "text": [
      "Edgelist: 100%|██████████| 30396/30396 [02:01<00:00, 249.30it/s]\n"
     ]
    }
   ],
   "source": [
    "# Generate edge list\n",
    "with open('elist.txt', 'w') as f:\n",
    "    for u in timer(A.keys(), desc=\"Edgelist\"):\n",
    "        edges = set()\n",
    "        for movie in A[u]:\n",
    "            for v in M[movie]:\n",
    "                weight = float( len( A[u].intersection(A[v]) ) ) / len( A[u] )\n",
    "                edges.add( (v, weight) )\n",
    "        \n",
    "        for v,weight in edges:\n",
    "            f.write(\"%s\\t%s\\t%f\\n\" % (u, v, weight))"
   ]
  }
 ],
 "metadata": {
  "anaconda-cloud": {},
  "kernelspec": {
   "display_name": "Python [conda root]",
   "language": "python",
   "name": "conda-root-py"
  },
  "language_info": {
   "codemirror_mode": {
    "name": "ipython",
    "version": 2
   },
   "file_extension": ".py",
   "mimetype": "text/x-python",
   "name": "python",
   "nbconvert_exporter": "python",
   "pygments_lexer": "ipython2",
   "version": "2.7.13"
  }
 },
 "nbformat": 4,
 "nbformat_minor": 2
}
