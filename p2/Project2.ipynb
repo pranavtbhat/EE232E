{
 "cells": [
  {
   "cell_type": "markdown",
   "metadata": {},
   "source": [
    "# Part 2 : Construct a weighted directed graph G(V, E) from the list"
   ]
  },
  {
   "cell_type": "code",
   "execution_count": 30,
   "metadata": {
    "collapsed": false
   },
   "outputs": [],
   "source": [
    "library(igraph)\n",
    "library(parallel)"
   ]
  },
  {
   "cell_type": "code",
   "execution_count": 2,
   "metadata": {
    "collapsed": false
   },
   "outputs": [],
   "source": [
    "g = read.graph(\"elist.txt\", format=\"edgelist\")"
   ]
  },
  {
   "cell_type": "code",
   "execution_count": 3,
   "metadata": {
    "collapsed": false
   },
   "outputs": [
    {
     "data": {
      "text/html": [
       "244269"
      ],
      "text/latex": [
       "244269"
      ],
      "text/markdown": [
       "244269"
      ],
      "text/plain": [
       "[1] 244269"
      ]
     },
     "metadata": {},
     "output_type": "display_data"
    }
   ],
   "source": [
    "# Number of Vertexes\n",
    "vcount(g)"
   ]
  },
  {
   "cell_type": "code",
   "execution_count": 4,
   "metadata": {
    "collapsed": false
   },
   "outputs": [
    {
     "data": {
      "text/html": [
       "81477495"
      ],
      "text/latex": [
       "81477495"
      ],
      "text/markdown": [
       "81477495"
      ],
      "text/plain": [
       "[1] 81477495"
      ]
     },
     "metadata": {},
     "output_type": "display_data"
    }
   ],
   "source": [
    "# Number of Edges\n",
    "ecount(g)"
   ]
  },
  {
   "cell_type": "code",
   "execution_count": 5,
   "metadata": {
    "collapsed": false
   },
   "outputs": [],
   "source": [
    "# Get movie names\n",
    "movies = readLines(\"movies.txt\")"
   ]
  },
  {
   "cell_type": "code",
   "execution_count": 6,
   "metadata": {
    "collapsed": false
   },
   "outputs": [],
   "source": [
    "# Get actor names\n",
    "actors = readLines(\"actors.txt\")"
   ]
  },
  {
   "cell_type": "code",
   "execution_count": 9,
   "metadata": {
    "collapsed": false
   },
   "outputs": [
    {
     "data": {
      "text/html": [
       "244269"
      ],
      "text/latex": [
       "244269"
      ],
      "text/markdown": [
       "244269"
      ],
      "text/plain": [
       "[1] 244269"
      ]
     },
     "metadata": {},
     "output_type": "display_data"
    }
   ],
   "source": [
    "length(actors)"
   ]
  },
  {
   "cell_type": "code",
   "execution_count": 10,
   "metadata": {
    "collapsed": true
   },
   "outputs": [],
   "source": [
    "V(g)$names = actors"
   ]
  },
  {
   "cell_type": "code",
   "execution_count": 27,
   "metadata": {
    "collapsed": false
   },
   "outputs": [],
   "source": [
    "# Compute Weights\n",
    "mutual_movies = function(x){\n",
    "    e = get.edges(g, x)\n",
    "    u = e[1]\n",
    "    v = e[2]\n",
    "    \n",
    "    uadj = unlist(ego(g, 1, u))\n",
    "    vadj = unlist(ego(g, 1, v))\n",
    "    \n",
    "    return( length(intersect(uadj, vadj)) / length(uadj) )\n",
    "}"
   ]
  },
  {
   "cell_type": "code",
   "execution_count": null,
   "metadata": {
    "collapsed": true
   },
   "outputs": [],
   "source": [
    "weights = lapply(E(g), mutual_movies)"
   ]
  }
 ],
 "metadata": {
  "kernelspec": {
   "display_name": "R",
   "language": "R",
   "name": "ir"
  },
  "language_info": {
   "codemirror_mode": "r",
   "file_extension": ".r",
   "mimetype": "text/x-r-source",
   "name": "R",
   "pygments_lexer": "r",
   "version": "3.3.1"
  }
 },
 "nbformat": 4,
 "nbformat_minor": 2
}
