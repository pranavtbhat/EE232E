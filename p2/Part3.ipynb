{
 "cells": [
  {
   "cell_type": "code",
   "execution_count": 1,
   "metadata": {
    "collapsed": false
   },
   "outputs": [
    {
     "name": "stderr",
     "output_type": "stream",
     "text": [
      "Warning message:\n",
      "“package ‘data.table’ was built under R version 3.3.2”"
     ]
    },
    {
     "name": "stdout",
     "output_type": "stream",
     "text": [
      "\n",
      "This data.table install has not detected OpenMP support. It will work but slower in single threaded mode.\n",
      "\n"
     ]
    },
    {
     "name": "stderr",
     "output_type": "stream",
     "text": [
      "\n",
      "Attaching package: ‘igraph’\n",
      "\n",
      "The following objects are masked from ‘package:stats’:\n",
      "\n",
      "    decompose, spectrum\n",
      "\n",
      "The following object is masked from ‘package:base’:\n",
      "\n",
      "    union\n",
      "\n"
     ]
    }
   ],
   "source": [
    "library(data.table)\n",
    "library(igraph)"
   ]
  },
  {
   "cell_type": "markdown",
   "metadata": {},
   "source": [
    "Run pagerank algorithm on the actor/actress network, look into those who are\n",
    "among top 10, do you know their names? List the top 10 famous movie celebrities\n",
    "in your opinion, what are their pagerank scores? Do you see any significant\n",
    "pairings among actors? Any major surprises, in the sense that well-known actors\n",
    "do not show up in the high pagerank list?"
   ]
  },
  {
   "cell_type": "markdown",
   "metadata": {},
   "source": [
    "# Read Graph from DataFrame"
   ]
  },
  {
   "cell_type": "code",
   "execution_count": 2,
   "metadata": {
    "collapsed": true
   },
   "outputs": [],
   "source": [
    "gframe = read.table(file=\"elist.txt\", header = FALSE, sep = \"\\t\", quote=\"\", dec = \".\")"
   ]
  },
  {
   "cell_type": "code",
   "execution_count": 3,
   "metadata": {
    "collapsed": true
   },
   "outputs": [],
   "source": [
    "colnames(gframe) = c(\"node_1\", \"node_2\", \"weight\")"
   ]
  },
  {
   "cell_type": "code",
   "execution_count": 4,
   "metadata": {
    "collapsed": true
   },
   "outputs": [],
   "source": [
    "g = graph.data.frame(gframe, directed=TRUE)"
   ]
  },
  {
   "cell_type": "markdown",
   "metadata": {},
   "source": [
    "# Run a page rank"
   ]
  },
  {
   "cell_type": "code",
   "execution_count": 5,
   "metadata": {
    "collapsed": false
   },
   "outputs": [],
   "source": [
    "res = unlist( page.rank(g, weights = E(g)$weight) )"
   ]
  },
  {
   "cell_type": "code",
   "execution_count": 6,
   "metadata": {
    "collapsed": false
   },
   "outputs": [
    {
     "data": {
      "text/html": [
       "<dl class=dl-horizontal>\n",
       "\t<dt>value</dt>\n",
       "\t\t<dd>1</dd>\n",
       "\t<dt>vector.Flowers, Bess </dt>\n",
       "\t\t<dd>0.000609993839276924</dd>\n",
       "\t<dt>vector.Harris, Sam (II) </dt>\n",
       "\t\t<dd>0.000514173055283027</dd>\n",
       "\t<dt>vector.Miller, Harold (I) </dt>\n",
       "\t\t<dd>0.00044760697594567</dd>\n",
       "\t<dt>vector.Phelps, Lee (I) </dt>\n",
       "\t\t<dd>0.000415489327605198</dd>\n",
       "\t<dt>vector.O'Connor, Frank (I) </dt>\n",
       "\t\t<dd>0.000389169352317876</dd>\n",
       "\t<dt>vector.Farnum, Franklyn </dt>\n",
       "\t\t<dd>0.000374232134789889</dd>\n",
       "\t<dt>vector.Sayre, Jeffrey </dt>\n",
       "\t\t<dd>0.000369326195954873</dd>\n",
       "\t<dt>vector.Sullivan, Charles (I) </dt>\n",
       "\t\t<dd>0.000355363066568817</dd>\n",
       "\t<dt>vector.Steers, Larry </dt>\n",
       "\t\t<dd>0.000353115703928728</dd>\n",
       "</dl>\n"
      ],
      "text/latex": [
       "\\begin{description*}\n",
       "\\item[value] 1\n",
       "\\item[vector.Flowers, Bess ] 0.000609993839276924\n",
       "\\item[vector.Harris, Sam (II) ] 0.000514173055283027\n",
       "\\item[vector.Miller, Harold (I) ] 0.00044760697594567\n",
       "\\item[vector.Phelps, Lee (I) ] 0.000415489327605198\n",
       "\\item[vector.O'Connor, Frank (I) ] 0.000389169352317876\n",
       "\\item[vector.Farnum, Franklyn ] 0.000374232134789889\n",
       "\\item[vector.Sayre, Jeffrey ] 0.000369326195954873\n",
       "\\item[vector.Sullivan, Charles (I) ] 0.000355363066568817\n",
       "\\item[vector.Steers, Larry ] 0.000353115703928728\n",
       "\\end{description*}\n"
      ],
      "text/markdown": [
       "value\n",
       ":   1vector.Flowers, Bess \n",
       ":   0.000609993839276924vector.Harris, Sam (II) \n",
       ":   0.000514173055283027vector.Miller, Harold (I) \n",
       ":   0.00044760697594567vector.Phelps, Lee (I) \n",
       ":   0.000415489327605198vector.O'Connor, Frank (I) \n",
       ":   0.000389169352317876vector.Farnum, Franklyn \n",
       ":   0.000374232134789889vector.Sayre, Jeffrey \n",
       ":   0.000369326195954873vector.Sullivan, Charles (I) \n",
       ":   0.000355363066568817vector.Steers, Larry \n",
       ":   0.000353115703928728\n",
       "\n"
      ],
      "text/plain": [
       "                        value         vector.Flowers, Bess  \n",
       "                 1.0000000000                  0.0006099938 \n",
       "     vector.Harris, Sam (II)     vector.Miller, Harold (I)  \n",
       "                 0.0005141731                  0.0004476070 \n",
       "      vector.Phelps, Lee (I)    vector.O'Connor, Frank (I)  \n",
       "                 0.0004154893                  0.0003891694 \n",
       "     vector.Farnum, Franklyn         vector.Sayre, Jeffrey  \n",
       "                 0.0003742321                  0.0003693262 \n",
       "vector.Sullivan, Charles (I)          vector.Steers, Larry  \n",
       "                 0.0003553631                  0.0003531157 "
      ]
     },
     "metadata": {},
     "output_type": "display_data"
    }
   ],
   "source": [
    "res[ order(unlist(res), decreasing = TRUE)[1:10] ]"
   ]
  }
 ],
 "metadata": {
  "anaconda-cloud": {},
  "kernelspec": {
   "display_name": "R",
   "language": "R",
   "name": "ir"
  },
  "language_info": {
   "codemirror_mode": "r",
   "file_extension": ".r",
   "mimetype": "text/x-r-source",
   "name": "R",
   "pygments_lexer": "r",
   "version": "3.3.1"
  }
 },
 "nbformat": 4,
 "nbformat_minor": 2
}
