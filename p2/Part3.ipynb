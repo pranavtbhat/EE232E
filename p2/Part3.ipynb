{
 "cells": [
  {
   "cell_type": "code",
   "execution_count": 2,
   "metadata": {
    "collapsed": false
   },
   "outputs": [
    {
     "name": "stderr",
     "output_type": "stream",
     "text": [
      "Warning message:\n",
      "“package ‘data.table’ was built under R version 3.3.2”"
     ]
    },
    {
     "name": "stdout",
     "output_type": "stream",
     "text": [
      "\n",
      "This data.table install has not detected OpenMP support. It will work but slower in single threaded mode.\n",
      "\n"
     ]
    },
    {
     "name": "stderr",
     "output_type": "stream",
     "text": [
      "\n",
      "Attaching package: ‘igraph’\n",
      "\n",
      "The following objects are masked from ‘package:stats’:\n",
      "\n",
      "    decompose, spectrum\n",
      "\n",
      "The following object is masked from ‘package:base’:\n",
      "\n",
      "    union\n",
      "\n"
     ]
    }
   ],
   "source": [
    "library(data.table)\n",
    "library(igraph)"
   ]
  },
  {
   "cell_type": "markdown",
   "metadata": {},
   "source": [
    "Run pagerank algorithm on the actor/actress network, look into those who are\n",
    "among top 10, do you know their names? List the top 10 famous movie celebrities\n",
    "in your opinion, what are their pagerank scores? Do you see any significant\n",
    "pairings among actors? Any major surprises, in the sense that well-known actors\n",
    "do not show up in the high pagerank list?"
   ]
  },
  {
   "cell_type": "markdown",
   "metadata": {},
   "source": [
    "# Read Graph from DataFrame"
   ]
  },
  {
   "cell_type": "code",
   "execution_count": 21,
   "metadata": {
    "collapsed": false
   },
   "outputs": [],
   "source": [
    "gframe = read.table(file=\"elist.txt\", header = FALSE, sep = \"\\t\", quote=\"\", dec = \".\")\n",
    "colnames(gframe) = c(\"node_1\", \"node_2\", \"weight\")\n",
    "g = graph.data.frame(gframe, directed=TRUE)"
   ]
  },
  {
   "cell_type": "markdown",
   "metadata": {},
   "source": [
    "# Run a page rank"
   ]
  },
  {
   "cell_type": "code",
   "execution_count": 22,
   "metadata": {
    "collapsed": false
   },
   "outputs": [],
   "source": [
    "res = unlist( page.rank(g, weights = E(g)$weight) )"
   ]
  },
  {
   "cell_type": "code",
   "execution_count": 23,
   "metadata": {
    "collapsed": false
   },
   "outputs": [],
   "source": [
    "table = data.table(Name = V(g)$name, PageRank = res[1 : vcount(g)])"
   ]
  },
  {
   "cell_type": "code",
   "execution_count": 26,
   "metadata": {
    "collapsed": true
   },
   "outputs": [],
   "source": [
    "table = table [ order(table$PageRank, decreasing = TRUE) ]"
   ]
  },
  {
   "cell_type": "code",
   "execution_count": 27,
   "metadata": {
    "collapsed": false
   },
   "outputs": [
    {
     "data": {
      "text/html": [
       "<table>\n",
       "<thead><tr><th scope=col>Name</th><th scope=col>PageRank</th></tr></thead>\n",
       "<tbody>\n",
       "\t<tr><td>Flowers, Bess         </td><td>0.0006099938          </td></tr>\n",
       "\t<tr><td>Harris, Sam (II)      </td><td>0.0005141731          </td></tr>\n",
       "\t<tr><td>Miller, Harold (I)    </td><td>0.0004476070          </td></tr>\n",
       "\t<tr><td>Phelps, Lee (I)       </td><td>0.0004154893          </td></tr>\n",
       "\t<tr><td>O'Connor, Frank (I)   </td><td>0.0003891694          </td></tr>\n",
       "\t<tr><td>Farnum, Franklyn      </td><td>0.0003742321          </td></tr>\n",
       "\t<tr><td>Sayre, Jeffrey        </td><td>0.0003693262          </td></tr>\n",
       "\t<tr><td>Sullivan, Charles (I) </td><td>0.0003553631          </td></tr>\n",
       "\t<tr><td>Steers, Larry         </td><td>0.0003531157          </td></tr>\n",
       "\t<tr><td>Kemp, Kenner G.       </td><td>0.0003485889          </td></tr>\n",
       "</tbody>\n",
       "</table>\n"
      ],
      "text/latex": [
       "\\begin{tabular}{r|ll}\n",
       " Name & PageRank\\\\\n",
       "\\hline\n",
       "\t Flowers, Bess          & 0.0006099938          \\\\\n",
       "\t Harris, Sam (II)       & 0.0005141731          \\\\\n",
       "\t Miller, Harold (I)     & 0.0004476070          \\\\\n",
       "\t Phelps, Lee (I)        & 0.0004154893          \\\\\n",
       "\t O'Connor, Frank (I)    & 0.0003891694          \\\\\n",
       "\t Farnum, Franklyn       & 0.0003742321          \\\\\n",
       "\t Sayre, Jeffrey         & 0.0003693262          \\\\\n",
       "\t Sullivan, Charles (I)  & 0.0003553631          \\\\\n",
       "\t Steers, Larry          & 0.0003531157          \\\\\n",
       "\t Kemp, Kenner G.        & 0.0003485889          \\\\\n",
       "\\end{tabular}\n"
      ],
      "text/markdown": [
       "\n",
       "Name | PageRank | \n",
       "|---|---|---|---|---|---|---|---|---|---|\n",
       "| Flowers, Bess          | 0.0006099938           | \n",
       "| Harris, Sam (II)       | 0.0005141731           | \n",
       "| Miller, Harold (I)     | 0.0004476070           | \n",
       "| Phelps, Lee (I)        | 0.0004154893           | \n",
       "| O'Connor, Frank (I)    | 0.0003891694           | \n",
       "| Farnum, Franklyn       | 0.0003742321           | \n",
       "| Sayre, Jeffrey         | 0.0003693262           | \n",
       "| Sullivan, Charles (I)  | 0.0003553631           | \n",
       "| Steers, Larry          | 0.0003531157           | \n",
       "| Kemp, Kenner G.        | 0.0003485889           | \n",
       "\n",
       "\n"
      ],
      "text/plain": [
       "   Name                   PageRank    \n",
       "1  Flowers, Bess          0.0006099938\n",
       "2  Harris, Sam (II)       0.0005141731\n",
       "3  Miller, Harold (I)     0.0004476070\n",
       "4  Phelps, Lee (I)        0.0004154893\n",
       "5  O'Connor, Frank (I)    0.0003891694\n",
       "6  Farnum, Franklyn       0.0003742321\n",
       "7  Sayre, Jeffrey         0.0003693262\n",
       "8  Sullivan, Charles (I)  0.0003553631\n",
       "9  Steers, Larry          0.0003531157\n",
       "10 Kemp, Kenner G.        0.0003485889"
      ]
     },
     "metadata": {},
     "output_type": "display_data"
    }
   ],
   "source": [
    "head(table, 10)"
   ]
  },
  {
   "cell_type": "code",
   "execution_count": 29,
   "metadata": {
    "collapsed": true
   },
   "outputs": [],
   "source": [
    "write.table(table, \"page_rank.txt\", sep=\"\\t\", quote=FALSE, row.names = FALSE)"
   ]
  }
 ],
 "metadata": {
  "anaconda-cloud": {},
  "kernelspec": {
   "display_name": "R",
   "language": "R",
   "name": "ir"
  },
  "language_info": {
   "codemirror_mode": "r",
   "file_extension": ".r",
   "mimetype": "text/x-r-source",
   "name": "R",
   "pygments_lexer": "r",
   "version": "3.3.1"
  }
 },
 "nbformat": 4,
 "nbformat_minor": 2
}
