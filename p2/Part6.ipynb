{
 "cells": [
  {
   "cell_type": "markdown",
   "metadata": {
    "collapsed": true
   },
   "source": [
    "Add the following nodes into the network, For each of them, return the top 5\n",
    "nearest neighbors. Which communities does each of them belong to?\n",
    "- Batman v Superman: Dawn of Justice (2016)\n",
    "- Mission: Impossible - Rogue Nation (2015)\n",
    "- Minions (2015)"
   ]
  },
  {
   "cell_type": "code",
   "execution_count": 1,
   "metadata": {
    "collapsed": false
   },
   "outputs": [
    {
     "name": "stderr",
     "output_type": "stream",
     "text": [
      "Warning message:\n",
      "“package ‘data.table’ was built under R version 3.3.2”"
     ]
    },
    {
     "name": "stdout",
     "output_type": "stream",
     "text": [
      "\n",
      "This data.table install has not detected OpenMP support. It will work but slower in single threaded mode.\n",
      "\n"
     ]
    },
    {
     "name": "stderr",
     "output_type": "stream",
     "text": [
      "\n",
      "Attaching package: ‘igraph’\n",
      "\n",
      "The following objects are masked from ‘package:stats’:\n",
      "\n",
      "    decompose, spectrum\n",
      "\n",
      "The following object is masked from ‘package:base’:\n",
      "\n",
      "    union\n",
      "\n"
     ]
    }
   ],
   "source": [
    "library(data.table)\n",
    "library(igraph)"
   ]
  },
  {
   "cell_type": "markdown",
   "metadata": {},
   "source": [
    "# Load the graph from Part 5"
   ]
  },
  {
   "cell_type": "code",
   "execution_count": 2,
   "metadata": {
    "collapsed": true
   },
   "outputs": [],
   "source": [
    "g = readRDS(\"rfiles/g.rds\")"
   ]
  },
  {
   "cell_type": "code",
   "execution_count": 3,
   "metadata": {
    "collapsed": false
   },
   "outputs": [],
   "source": [
    "get_nearest = function(v) {\n",
    "    ns = neighbors(g, v)\n",
    "    ws = sapply(ns, function(x){ edge_attr(g, \"weight\", get.edge.ids(g, c(v, x))) })\n",
    "    return( ns[ order(ws, decreasing = TRUE) ] )\n",
    "}"
   ]
  },
  {
   "cell_type": "markdown",
   "metadata": {},
   "source": [
    "# Batman v Superman: Dawn of Justice (2016)"
   ]
  },
  {
   "cell_type": "code",
   "execution_count": 4,
   "metadata": {
    "collapsed": false
   },
   "outputs": [
    {
     "name": "stderr",
     "output_type": "stream",
     "text": [
      "Warning message in data.table(name = V(g)$name[ns], genre = V(g)$genre, community = V(g)$comm.id[ns]):\n",
      "“Item 1 is of size 242 but maximum size is 50833 (recycled leaving remainder of 13 items)”Warning message in data.table(name = V(g)$name[ns], genre = V(g)$genre, community = V(g)$comm.id[ns]):\n",
      "“Item 3 is of size 242 but maximum size is 50833 (recycled leaving remainder of 13 items)”"
     ]
    },
    {
     "data": {
      "text/html": [
       "<table>\n",
       "<thead><tr><th scope=col>name</th><th scope=col>genre</th><th scope=col>community</th></tr></thead>\n",
       "<tbody>\n",
       "\t<tr><td>Man of Steel (2013)          </td><td>Film-Noir                    </td><td>5                            </td></tr>\n",
       "\t<tr><td>The Matrix Reloaded (2003)   </td><td>Western                      </td><td>5                            </td></tr>\n",
       "\t<tr><td>The Matrix Revolutions (2003)</td><td>Drama                        </td><td>5                            </td></tr>\n",
       "\t<tr><td>Rumble Fish (1983)           </td><td>Sport                        </td><td>5                            </td></tr>\n",
       "\t<tr><td>Hollywoodland (2006)         </td><td>Drama                        </td><td>5                            </td></tr>\n",
       "\t<tr><td>Won't Back Down (2012)       </td><td>Comedy                       </td><td>5                            </td></tr>\n",
       "\t<tr><td>Out of the Furnace (2013)    </td><td>Drama                        </td><td>5                            </td></tr>\n",
       "\t<tr><td>State of Play (2009)         </td><td>Western                      </td><td>5                            </td></tr>\n",
       "\t<tr><td>The Soloist (2009)           </td><td>Unknown                      </td><td>5                            </td></tr>\n",
       "\t<tr><td>Enter the Matrix (2003)      </td><td>Thriller                     </td><td>5                            </td></tr>\n",
       "</tbody>\n",
       "</table>\n"
      ],
      "text/latex": [
       "\\begin{tabular}{r|lll}\n",
       " name & genre & community\\\\\n",
       "\\hline\n",
       "\t Man of Steel (2013)           & Film-Noir                     & 5                            \\\\\n",
       "\t The Matrix Reloaded (2003)    & Western                       & 5                            \\\\\n",
       "\t The Matrix Revolutions (2003) & Drama                         & 5                            \\\\\n",
       "\t Rumble Fish (1983)            & Sport                         & 5                            \\\\\n",
       "\t Hollywoodland (2006)          & Drama                         & 5                            \\\\\n",
       "\t Won't Back Down (2012)        & Comedy                        & 5                            \\\\\n",
       "\t Out of the Furnace (2013)     & Drama                         & 5                            \\\\\n",
       "\t State of Play (2009)          & Western                       & 5                            \\\\\n",
       "\t The Soloist (2009)            & Unknown                       & 5                            \\\\\n",
       "\t Enter the Matrix (2003)       & Thriller                      & 5                            \\\\\n",
       "\\end{tabular}\n"
      ],
      "text/markdown": [
       "\n",
       "name | genre | community | \n",
       "|---|---|---|---|---|---|---|---|---|---|\n",
       "| Man of Steel (2013)           | Film-Noir                     | 5                             | \n",
       "| The Matrix Reloaded (2003)    | Western                       | 5                             | \n",
       "| The Matrix Revolutions (2003) | Drama                         | 5                             | \n",
       "| Rumble Fish (1983)            | Sport                         | 5                             | \n",
       "| Hollywoodland (2006)          | Drama                         | 5                             | \n",
       "| Won't Back Down (2012)        | Comedy                        | 5                             | \n",
       "| Out of the Furnace (2013)     | Drama                         | 5                             | \n",
       "| State of Play (2009)          | Western                       | 5                             | \n",
       "| The Soloist (2009)            | Unknown                       | 5                             | \n",
       "| Enter the Matrix (2003)       | Thriller                      | 5                             | \n",
       "\n",
       "\n"
      ],
      "text/plain": [
       "   name                          genre     community\n",
       "1  Man of Steel (2013)           Film-Noir 5        \n",
       "2  The Matrix Reloaded (2003)    Western   5        \n",
       "3  The Matrix Revolutions (2003) Drama     5        \n",
       "4  Rumble Fish (1983)            Sport     5        \n",
       "5  Hollywoodland (2006)          Drama     5        \n",
       "6  Won't Back Down (2012)        Comedy    5        \n",
       "7  Out of the Furnace (2013)     Drama     5        \n",
       "8  State of Play (2009)          Western   5        \n",
       "9  The Soloist (2009)            Unknown   5        \n",
       "10 Enter the Matrix (2003)       Thriller  5        "
      ]
     },
     "metadata": {},
     "output_type": "display_data"
    }
   ],
   "source": [
    "ns = get_nearest( which(V(g)$name == \"Batman v Superman: Dawn of Justice (2016)\") )\n",
    "data.table(name = V(g)$name[ns], genre = V(g)$genre, community = V(g)$comm.id[ns])[1 : 10, ]"
   ]
  },
  {
   "cell_type": "markdown",
   "metadata": {},
   "source": [
    "# Mission: Impossible - Rogue Nation (2015)\n",
    "We are using \"Mission: Impossible III (2006)  Thriller: instead, since it's in the graph. (report pe mat dalna)"
   ]
  },
  {
   "cell_type": "code",
   "execution_count": 5,
   "metadata": {
    "collapsed": false
   },
   "outputs": [
    {
     "name": "stderr",
     "output_type": "stream",
     "text": [
      "Warning message in data.table(name = V(g)$name[ns], genre = V(g)$genre, community = V(g)$comm.id[ns]):\n",
      "“Item 1 is of size 463 but maximum size is 50833 (recycled leaving remainder of 366 items)”Warning message in data.table(name = V(g)$name[ns], genre = V(g)$genre, community = V(g)$comm.id[ns]):\n",
      "“Item 3 is of size 463 but maximum size is 50833 (recycled leaving remainder of 366 items)”"
     ]
    },
    {
     "data": {
      "text/html": [
       "<table>\n",
       "<thead><tr><th scope=col>name</th><th scope=col>genre</th><th scope=col>community</th></tr></thead>\n",
       "<tbody>\n",
       "\t<tr><td>Balls of Fury (2007)                        </td><td>Film-Noir                                   </td><td>12                                          </td></tr>\n",
       "\t<tr><td>Unfaithful (2002)                           </td><td>Western                                     </td><td> 5                                          </td></tr>\n",
       "\t<tr><td>Next Stop Wonderland (1998)                 </td><td>Drama                                       </td><td> 5                                          </td></tr>\n",
       "\t<tr><td>The Slammin' Salmon (2009)                  </td><td>Sport                                       </td><td> 5                                          </td></tr>\n",
       "\t<tr><td>How to Lose Friends &amp; Alienate People (2008) </td><td><span style=white-space:pre-wrap>Drama    </span></td><td> 5                                               </td></tr>\n",
       "\t<tr><td>Sexual Life (2005)                          </td><td>Comedy                                      </td><td> 5                                          </td></tr>\n",
       "\t<tr><td>Saving Mr. Banks (2013)                     </td><td>Drama                                       </td><td> 5                                          </td></tr>\n",
       "\t<tr><td>Rock of Ages (2012)                         </td><td>Western                                     </td><td> 5                                          </td></tr>\n",
       "\t<tr><td>Mission: Impossible (1996)                  </td><td>Unknown                                     </td><td> 5                                          </td></tr>\n",
       "\t<tr><td>Star Trek (2009)                            </td><td>Thriller                                    </td><td> 5                                          </td></tr>\n",
       "</tbody>\n",
       "</table>\n"
      ],
      "text/latex": [
       "\\begin{tabular}{r|lll}\n",
       " name & genre & community\\\\\n",
       "\\hline\n",
       "\t Balls of Fury (2007)                         & Film-Noir                                    & 12                                          \\\\\n",
       "\t Unfaithful (2002)                            & Western                                      &  5                                          \\\\\n",
       "\t Next Stop Wonderland (1998)                  & Drama                                        &  5                                          \\\\\n",
       "\t The Slammin' Salmon (2009)                   & Sport                                        &  5                                          \\\\\n",
       "\t How to Lose Friends \\& Alienate People (2008) & Drama                                          &  5                                            \\\\\n",
       "\t Sexual Life (2005)                           & Comedy                                       &  5                                          \\\\\n",
       "\t Saving Mr. Banks (2013)                      & Drama                                        &  5                                          \\\\\n",
       "\t Rock of Ages (2012)                          & Western                                      &  5                                          \\\\\n",
       "\t Mission: Impossible (1996)                   & Unknown                                      &  5                                          \\\\\n",
       "\t Star Trek (2009)                             & Thriller                                     &  5                                          \\\\\n",
       "\\end{tabular}\n"
      ],
      "text/markdown": [
       "\n",
       "name | genre | community | \n",
       "|---|---|---|---|---|---|---|---|---|---|\n",
       "| Balls of Fury (2007)                         | Film-Noir                                    | 12                                           | \n",
       "| Unfaithful (2002)                            | Western                                      |  5                                           | \n",
       "| Next Stop Wonderland (1998)                  | Drama                                        |  5                                           | \n",
       "| The Slammin' Salmon (2009)                   | Sport                                        |  5                                           | \n",
       "| How to Lose Friends & Alienate People (2008) | Drama                                        |  5                                           | \n",
       "| Sexual Life (2005)                           | Comedy                                       |  5                                           | \n",
       "| Saving Mr. Banks (2013)                      | Drama                                        |  5                                           | \n",
       "| Rock of Ages (2012)                          | Western                                      |  5                                           | \n",
       "| Mission: Impossible (1996)                   | Unknown                                      |  5                                           | \n",
       "| Star Trek (2009)                             | Thriller                                     |  5                                           | \n",
       "\n",
       "\n"
      ],
      "text/plain": [
       "   name                                         genre     community\n",
       "1  Balls of Fury (2007)                         Film-Noir 12       \n",
       "2  Unfaithful (2002)                            Western    5       \n",
       "3  Next Stop Wonderland (1998)                  Drama      5       \n",
       "4  The Slammin' Salmon (2009)                   Sport      5       \n",
       "5  How to Lose Friends & Alienate People (2008) Drama      5       \n",
       "6  Sexual Life (2005)                           Comedy     5       \n",
       "7  Saving Mr. Banks (2013)                      Drama      5       \n",
       "8  Rock of Ages (2012)                          Western    5       \n",
       "9  Mission: Impossible (1996)                   Unknown    5       \n",
       "10 Star Trek (2009)                             Thriller   5       "
      ]
     },
     "metadata": {},
     "output_type": "display_data"
    }
   ],
   "source": [
    "ns = get_nearest( which(V(g)$name == \"Mission: Impossible - Rogue Nation (2015)\") )\n",
    "data.table(name = V(g)$name[ns], genre = V(g)$genre, community = V(g)$comm.id[ns])[1 : 10, ]"
   ]
  },
  {
   "cell_type": "markdown",
   "metadata": {},
   "source": [
    "# Minions (2015)"
   ]
  },
  {
   "cell_type": "code",
   "execution_count": 6,
   "metadata": {
    "collapsed": false
   },
   "outputs": [
    {
     "name": "stderr",
     "output_type": "stream",
     "text": [
      "Warning message in data.table(name = V(g)$name[ns], genre = V(g)$genre, community = V(g)$comm.id[ns]):\n",
      "“Item 1 is of size 458 but maximum size is 50833 (recycled leaving remainder of 453 items)”Warning message in data.table(name = V(g)$name[ns], genre = V(g)$genre, community = V(g)$comm.id[ns]):\n",
      "“Item 3 is of size 458 but maximum size is 50833 (recycled leaving remainder of 453 items)”"
     ]
    },
    {
     "data": {
      "text/html": [
       "<table>\n",
       "<thead><tr><th scope=col>name</th><th scope=col>genre</th><th scope=col>community</th></tr></thead>\n",
       "<tbody>\n",
       "\t<tr><td>Surf's Up (2007)            </td><td>Film-Noir                   </td><td>5                           </td></tr>\n",
       "\t<tr><td>The Lorax (2012)            </td><td>Western                     </td><td>5                           </td></tr>\n",
       "\t<tr><td>Inside Out (2015)           </td><td>Drama                       </td><td>5                           </td></tr>\n",
       "\t<tr><td>Up (2009)                   </td><td>Sport                       </td><td>5                           </td></tr>\n",
       "\t<tr><td>Despicable Me 2 (2013)      </td><td>Drama                       </td><td>5                           </td></tr>\n",
       "\t<tr><td>Horton Hears a Who! (2008)  </td><td>Comedy                      </td><td>5                           </td></tr>\n",
       "\t<tr><td>Gake no ue no Ponyo (2008)  </td><td>Drama                       </td><td>5                           </td></tr>\n",
       "\t<tr><td>Ice Age: The Meltdown (2006)</td><td>Western                     </td><td>5                           </td></tr>\n",
       "\t<tr><td>WALLE (2008)                </td><td>Unknown                     </td><td>5                           </td></tr>\n",
       "\t<tr><td>Monsters, Inc. (2001)       </td><td>Thriller                    </td><td>5                           </td></tr>\n",
       "</tbody>\n",
       "</table>\n"
      ],
      "text/latex": [
       "\\begin{tabular}{r|lll}\n",
       " name & genre & community\\\\\n",
       "\\hline\n",
       "\t Surf's Up (2007)             & Film-Noir                    & 5                           \\\\\n",
       "\t The Lorax (2012)             & Western                      & 5                           \\\\\n",
       "\t Inside Out (2015)            & Drama                        & 5                           \\\\\n",
       "\t Up (2009)                    & Sport                        & 5                           \\\\\n",
       "\t Despicable Me 2 (2013)       & Drama                        & 5                           \\\\\n",
       "\t Horton Hears a Who! (2008)   & Comedy                       & 5                           \\\\\n",
       "\t Gake no ue no Ponyo (2008)   & Drama                        & 5                           \\\\\n",
       "\t Ice Age: The Meltdown (2006) & Western                      & 5                           \\\\\n",
       "\t WALLE (2008)                 & Unknown                      & 5                           \\\\\n",
       "\t Monsters, Inc. (2001)        & Thriller                     & 5                           \\\\\n",
       "\\end{tabular}\n"
      ],
      "text/markdown": [
       "\n",
       "name | genre | community | \n",
       "|---|---|---|---|---|---|---|---|---|---|\n",
       "| Surf's Up (2007)             | Film-Noir                    | 5                            | \n",
       "| The Lorax (2012)             | Western                      | 5                            | \n",
       "| Inside Out (2015)            | Drama                        | 5                            | \n",
       "| Up (2009)                    | Sport                        | 5                            | \n",
       "| Despicable Me 2 (2013)       | Drama                        | 5                            | \n",
       "| Horton Hears a Who! (2008)   | Comedy                       | 5                            | \n",
       "| Gake no ue no Ponyo (2008)   | Drama                        | 5                            | \n",
       "| Ice Age: The Meltdown (2006) | Western                      | 5                            | \n",
       "| WALLE (2008)                 | Unknown                      | 5                            | \n",
       "| Monsters, Inc. (2001)        | Thriller                     | 5                            | \n",
       "\n",
       "\n"
      ],
      "text/plain": [
       "   name                         genre     community\n",
       "1  Surf's Up (2007)             Film-Noir 5        \n",
       "2  The Lorax (2012)             Western   5        \n",
       "3  Inside Out (2015)            Drama     5        \n",
       "4  Up (2009)                    Sport     5        \n",
       "5  Despicable Me 2 (2013)       Drama     5        \n",
       "6  Horton Hears a Who! (2008)   Comedy    5        \n",
       "7  Gake no ue no Ponyo (2008)   Drama     5        \n",
       "8  Ice Age: The Meltdown (2006) Western   5        \n",
       "9  WALLE (2008)                 Unknown   5        \n",
       "10 Monsters, Inc. (2001)        Thriller  5        "
      ]
     },
     "metadata": {},
     "output_type": "display_data"
    }
   ],
   "source": [
    "ns = get_nearest( which(V(g)$name == \"Minions (2015)\") )\n",
    "data.table(name = V(g)$name[ns], genre = V(g)$genre, community = V(g)$comm.id[ns])[1 : 10, ]"
   ]
  }
 ],
 "metadata": {
  "anaconda-cloud": {},
  "kernelspec": {
   "display_name": "R",
   "language": "R",
   "name": "ir"
  },
  "language_info": {
   "codemirror_mode": "r",
   "file_extension": ".r",
   "mimetype": "text/x-r-source",
   "name": "R",
   "pygments_lexer": "r",
   "version": "3.3.1"
  }
 },
 "nbformat": 4,
 "nbformat_minor": 2
}
