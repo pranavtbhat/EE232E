{
 "cells": [
  {
   "cell_type": "code",
   "execution_count": 1,
   "metadata": {
    "collapsed": true
   },
   "outputs": [],
   "source": [
    "import string\n",
    "from tqdm import tqdm as timer\n",
    "import re\n",
    "import copy\n",
    "import pandas as pd"
   ]
  },
  {
   "cell_type": "markdown",
   "metadata": {},
   "source": [
    "# Filter Data\n",
    "\n",
    "## Step 1 : Iterate through the input files, discarding lines with fewer than 10 movies. Generate a actor to movies mapping, and a reverse movies to actor mapping\n",
    "\n",
    "The lines are cleaned by:\n",
    "- Removing unprintable characters\n",
    "- Removing stuff in brackets () or {}"
   ]
  },
  {
   "cell_type": "code",
   "execution_count": 2,
   "metadata": {
    "collapsed": false
   },
   "outputs": [
    {
     "name": "stderr",
     "output_type": "stream",
     "text": [
      "actor_movies.txt: 100%|██████████| 2167653/2167653 [00:38<00:00, 55789.30it/s]\n",
      "actress_movies.txt: 100%|██████████| 1182813/1182813 [00:15<00:00, 78299.95it/s]\n"
     ]
    }
   ],
   "source": [
    "A = {}\n",
    "M = {}\n",
    "\n",
    "lc = {\"data/actress_movies.txt\" : 1182813, \"data/actor_movies.txt\" : 2167653}\n",
    "\n",
    "printable = set(string.printable)\n",
    "\n",
    "def clean_string(s):\n",
    "    # Remove (*)\n",
    "    s = re.sub(r'\\([^0-9]+\\)', '', s)\n",
    "\n",
    "    # Remove {*}\n",
    "    s = re.sub(r'\\{.*\\}', '', s)\n",
    "    \n",
    "    # Remove multiple spaces\n",
    "    s = re.sub(r'\\s+', ' ', s)\n",
    "\n",
    "    # Strip spaces etc\n",
    "    s = s.lstrip()\n",
    "    s = s.rstrip()\n",
    "\n",
    "    return s\n",
    "\n",
    "for fname in [\"data/actor_movies.txt\", \"data/actress_movies.txt\"]:\n",
    "    with open(fname, \"r\") as f:\n",
    "        for line in timer(f, total = lc[fname], desc=fname.split(\"/\")[1]):\n",
    "            if line.count('\\t\\t') <= 10:\n",
    "                pass\n",
    "            else:\n",
    "                line = filter(lambda x : x in printable, line.decode('latin1')).encode('ascii')\n",
    "                splits = line.split(\"\\t\\t\")\n",
    "                actor_name = splits[0]\n",
    "                movies = set(map(clean_string, splits[1:]))\n",
    "\n",
    "                if actor_name in A:\n",
    "                    A[actor_name] = A[actor_name].union(movies)\n",
    "                else:\n",
    "                    A[actor_name] = movies\n",
    "\n",
    "                for movie in movies:\n",
    "                    if movie not in M:\n",
    "                        M[movie] = [actor_name]\n",
    "                    else:\n",
    "                        M[movie].append(actor_name)"
   ]
  },
  {
   "cell_type": "code",
   "execution_count": 3,
   "metadata": {
    "collapsed": false
   },
   "outputs": [
    {
     "data": {
      "text/plain": [
       "458005"
      ]
     },
     "execution_count": 3,
     "metadata": {},
     "output_type": "execute_result"
    }
   ],
   "source": [
    "len( M.keys() )"
   ]
  },
  {
   "cell_type": "markdown",
   "metadata": {},
   "source": [
    "Define a relaxation to be one iteration of removing:\n",
    "- Movies with less than 10 actors (update actors accordingly)\n",
    "- Actors with less than 10 movies (update movies accordingly)\n",
    "\n",
    "Clearly this is a cyclic process. We notice that the actors and their movies stabilize in about 35 iterations!"
   ]
  },
  {
   "cell_type": "code",
   "execution_count": 5,
   "metadata": {
    "collapsed": false
   },
   "outputs": [],
   "source": [
    "# Start throwing movies away\n",
    "def relax(A, M):\n",
    "    \n",
    "    # Don't throw Rogue nation out\n",
    "    extras = M[\"Mission: Impossible - Rogue Nation (2015)\"]\n",
    "    \n",
    "    pop_movies = set(filter(lambda x : len(M[x]) > 10, M.keys()))\n",
    "    A = {actor : set(movies).intersection(pop_movies) for (actor, movies) in A.iteritems()}\n",
    "    A = {actor : movies for (actor, movies) in A.iteritems() if len(movies) > 10}\n",
    "    \n",
    "    good_actors = set(A.keys())\n",
    "    M = {movie : set(actors).intersection(good_actors) for (movie, actors) in M.iteritems()}\n",
    "    M = {movie : actors for (movie, actors) in M.iteritems() if len(actors) > 10}\n",
    "    M[\"Mission: Impossible - Rogue Nation (2015)\"] = filter(lambda x : x in A, extras)\n",
    "    print len(A.keys()), len(M.keys())\n",
    "    \n",
    "    return A, M"
   ]
  },
  {
   "cell_type": "code",
   "execution_count": 6,
   "metadata": {
    "collapsed": false
   },
   "outputs": [
    {
     "name": "stdout",
     "output_type": "stream",
     "text": [
      "49783 68161\n",
      "40490 60799\n",
      "36672 57451\n",
      "34844 55684\n",
      "33790 54588\n",
      "33079 53860\n",
      "32580 53304\n",
      "32202 52870\n",
      "31891 52506\n",
      "31640 52232\n",
      "31429 51980\n",
      "31257 51746\n",
      "31112 51580\n",
      "30995 51440\n",
      "30882 51312\n",
      "30775 51228\n",
      "30714 51163\n",
      "30660 51101\n",
      "30600 51048\n",
      "30564 51011\n",
      "30533 50982\n",
      "30508 50955\n",
      "30488 50932\n",
      "30472 50918\n",
      "30459 50903\n",
      "30447 50891\n",
      "30433 50873\n",
      "30422 50865\n",
      "30416 50857\n",
      "30409 50847\n",
      "30400 50837\n",
      "30398 50834\n",
      "30396 50834\n",
      "30396 50834\n",
      "30396 50834\n"
     ]
    }
   ],
   "source": [
    "for i in range(35):\n",
    "    A, M = relax(A, M)"
   ]
  },
  {
   "cell_type": "code",
   "execution_count": 6,
   "metadata": {
    "collapsed": false
   },
   "outputs": [
    {
     "data": {
      "text/plain": [
       "30396"
      ]
     },
     "execution_count": 6,
     "metadata": {},
     "output_type": "execute_result"
    }
   ],
   "source": [
    "# Number of actors\n",
    "len(A.keys())"
   ]
  },
  {
   "cell_type": "code",
   "execution_count": 7,
   "metadata": {
    "collapsed": false
   },
   "outputs": [
    {
     "data": {
      "text/plain": [
       "50834"
      ]
     },
     "execution_count": 7,
     "metadata": {},
     "output_type": "execute_result"
    }
   ],
   "source": [
    "# Number of movies\n",
    "len(M.keys())"
   ]
  },
  {
   "cell_type": "markdown",
   "metadata": {},
   "source": [
    "# Write to file for next phase"
   ]
  },
  {
   "cell_type": "code",
   "execution_count": 8,
   "metadata": {
    "collapsed": true
   },
   "outputs": [],
   "source": [
    "with open('movie_map.txt', 'w') as f:\n",
    "    for (actor, movies) in A.iteritems():\n",
    "        f.write(\"%s \\t\\t %s \\n\" % (actor, '\\t\\t'.join(movies)))"
   ]
  },
  {
   "cell_type": "markdown",
   "metadata": {},
   "source": [
    "# Clean the ratings"
   ]
  },
  {
   "cell_type": "code",
   "execution_count": 10,
   "metadata": {
    "collapsed": false
   },
   "outputs": [
    {
     "name": "stderr",
     "output_type": "stream",
     "text": [
      "/anaconda/lib/python2.7/site-packages/ipykernel/__main__.py:1: ParserWarning: Falling back to the 'python' engine because the 'c' engine does not support regex separators (separators > 1 char and different from '\\s+' are interpreted as regex); you can avoid this warning by specifying engine='python'.\n",
      "  if __name__ == '__main__':\n"
     ]
    }
   ],
   "source": [
    "table = pd.read_csv(\"data/movie_rating.txt\", sep=\"\\t\\t\", header=None)"
   ]
  },
  {
   "cell_type": "code",
   "execution_count": 11,
   "metadata": {
    "collapsed": false
   },
   "outputs": [],
   "source": [
    "printable = set(string.printable)\n",
    "\n",
    "def clean_string(s):\n",
    "    s = filter(lambda x : x in printable, s.decode('latin1')).encode('ascii')\n",
    "    \n",
    "    # Remove (*)\n",
    "    s = re.sub(r'\\([^0-9]+\\)', '', s)\n",
    "\n",
    "    # Remove {*}\n",
    "    s = re.sub(r'\\{.*\\}', '', s)\n",
    "    \n",
    "    # Remove multiple spaces\n",
    "    s = re.sub(r'\\s+', ' ', s)\n",
    "\n",
    "    # Strip spaces etc\n",
    "    s = s.lstrip()\n",
    "    s = s.rstrip()\n",
    "\n",
    "    return s\n",
    "\n",
    "table.iloc[:,0] = map(clean_string, table.iloc[:,0])"
   ]
  },
  {
   "cell_type": "code",
   "execution_count": 12,
   "metadata": {
    "collapsed": true
   },
   "outputs": [],
   "source": [
    "table = table.loc[ table[0].map(lambda x : x in M) ]"
   ]
  },
  {
   "cell_type": "code",
   "execution_count": 15,
   "metadata": {
    "collapsed": false
   },
   "outputs": [],
   "source": [
    "table.to_csv(\"ratings.txt\", sep=\"\\t\", header=False, index=False)"
   ]
  }
 ],
 "metadata": {
  "anaconda-cloud": {},
  "kernelspec": {
   "display_name": "Python [conda root]",
   "language": "python",
   "name": "conda-root-py"
  },
  "language_info": {
   "codemirror_mode": {
    "name": "ipython",
    "version": 2
   },
   "file_extension": ".py",
   "mimetype": "text/x-python",
   "name": "python",
   "nbconvert_exporter": "python",
   "pygments_lexer": "ipython2",
   "version": "2.7.13"
  }
 },
 "nbformat": 4,
 "nbformat_minor": 2
}
