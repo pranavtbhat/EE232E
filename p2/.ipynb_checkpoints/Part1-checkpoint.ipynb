{
 "cells": [
  {
   "cell_type": "code",
   "execution_count": 1,
   "metadata": {
    "collapsed": false
   },
   "outputs": [],
   "source": [
    "import networkx as nx\n",
    "import pandas as pd\n",
    "from tqdm import tqdm as pbar\n",
    "import numpy as np\n",
    "from itertools import islice\n",
    "import string\n",
    "from scipy.sparse import lil_matrix, csc_matrix\n",
    "from itertools import combinations\n",
    "from tqdm import tqdm as timer\n",
    "from scipy.misc import comb\n",
    "import re\n",
    "from collections import defaultdict"
   ]
  },
  {
   "cell_type": "markdown",
   "metadata": {},
   "source": [
    "Download files from the link (contain 6 txt files). Merge actor_movies.txt\n",
    "and actress_movies.txt files into one file, and remove all actors/actresses\n",
    "with less than 5 (so actors who have acted in four or fewer number of movies)\n",
    "movies; Note that you will have to parse the data in these lists as accurately as\n",
    "possible to extract the entities consistently and create the network. So plan on\n",
    "spending some time in cleaning the data set."
   ]
  },
  {
   "cell_type": "code",
   "execution_count": null,
   "metadata": {
    "collapsed": false
   },
   "outputs": [],
   "source": [
    "class AutoIncrement():\n",
    "    def __init__(self):\n",
    "        self.count = 0\n",
    "    \n",
    "    def next(self):\n",
    "        self.count += 1\n",
    "        return self.count\n",
    "    \n",
    "    def __str__(self):\n",
    "        return str(self.count)\n",
    "    \n",
    "class IntMap():\n",
    "    def __init__(self):\n",
    "        self.data = {}\n",
    "        self.ai = AutoIncrement()\n",
    "    \n",
    "    def decode(self, s):\n",
    "        if s in self.data:\n",
    "            return(self.data[s])\n",
    "        else:\n",
    "            count = self.ai.next()\n",
    "            self.data[s] = count\n",
    "            self.data[count] = s\n",
    "            return(count)\n",
    "    \n",
    "    def encode(self, i):\n",
    "        if i in self.data:\n",
    "            return self.data[i]\n",
    "        else:\n",
    "            raise KeyError(\"Cannot encode number \" + str(i))\n",
    "    \n",
    "    def __str__(self):\n",
    "        return \"Integer Map with %s entries\" % (str(self.ai))"
   ]
  },
  {
   "cell_type": "code",
   "execution_count": null,
   "metadata": {
    "collapsed": false
   },
   "outputs": [],
   "source": [
    "mdict = IntMap()\n",
    "adict = IntMap()\n",
    "A = {}\n",
    "M = {}"
   ]
  },
  {
   "cell_type": "code",
   "execution_count": null,
   "metadata": {
    "collapsed": false
   },
   "outputs": [],
   "source": [
    "printable = set(string.printable)\n",
    "\n",
    "def clean_string(s):\n",
    "    return(re.sub(r'\\(.*\\)|\\{.*\\}|\\'|\\\"', \"\", s).lstrip().rstrip())"
   ]
  },
  {
   "cell_type": "code",
   "execution_count": null,
   "metadata": {
    "collapsed": true
   },
   "outputs": [],
   "source": [
    "lc = {\"data/actress_movies.txt\" : 1182813, \"data/actor_movies.txt\" : 2167653}"
   ]
  },
  {
   "cell_type": "code",
   "execution_count": null,
   "metadata": {
    "collapsed": false
   },
   "outputs": [],
   "source": [
    "for fname in [\"data/actor_movies.txt\", \"data/actress_movies.txt\"]:\n",
    "    print(\"Reading from file \" + fname)\n",
    "    \n",
    "    with open(fname, \"r\") as f:\n",
    "        for line in timer(f, total = lc[fname]):\n",
    "            if line.count('\\t\\t') < 5:\n",
    "                pass\n",
    "            else:\n",
    "                line = filter(lambda x : x in printable, line.decode('latin1')).encode('ascii')\n",
    "                splits = line.split(\"\\t\\t\")\n",
    "                actor_name =  adict.decode(splits[0])\n",
    "                movies =  set(map(lambda x : mdict.decode(clean_string(x)), splits[1:]))\n",
    "                A[actor_name] = movies\n",
    "\n",
    "                for movie in movies:\n",
    "                    if movie not in M:\n",
    "                        M[movie] = [actor_name]\n",
    "                    else:\n",
    "                        M[movie].append(actor_name)"
   ]
  },
  {
   "cell_type": "code",
   "execution_count": null,
   "metadata": {
    "collapsed": false
   },
   "outputs": [],
   "source": [
    "num_actors = adict.ai.count + 1\n",
    "print \"Number of actors\", str(num_actors)"
   ]
  },
  {
   "cell_type": "code",
   "execution_count": null,
   "metadata": {
    "collapsed": true
   },
   "outputs": [],
   "source": [
    "num_movies = mdict.ai.count + 1\n",
    "print \"Number of movies\", str(num_movies)"
   ]
  },
  {
   "cell_type": "code",
   "execution_count": null,
   "metadata": {
    "collapsed": false
   },
   "outputs": [],
   "source": [
    "len(M.keys())"
   ]
  },
  {
   "cell_type": "code",
   "execution_count": null,
   "metadata": {
    "collapsed": false
   },
   "outputs": [],
   "source": [
    "print(\"Writing to edgelist\")\n",
    "with open('elist.txt', 'w') as f:\n",
    "    for a in timer(sorted(A.keys())):\n",
    "        edges = set()\n",
    "        \n",
    "        for movie in A[a]:\n",
    "            for b in M[movie]:\n",
    "                edges.add(b)\n",
    "        \n",
    "        edges.remove(a)\n",
    "        f.write(''.join(map(lambda x : ' '.join((str(a), str(x), '\\n')), sorted(edges))))"
   ]
  },
  {
   "cell_type": "code",
   "execution_count": null,
   "metadata": {
    "collapsed": true
   },
   "outputs": [],
   "source": [
    "print(\"Writing Mappings from integers to actor names\")\n",
    "with open('actors.txt', 'w') as f:\n",
    "    for i in timer(range(1, num_actors)):\n",
    "        f.write(\"%s\\n\" % adict.encode(i))"
   ]
  },
  {
   "cell_type": "code",
   "execution_count": null,
   "metadata": {
    "collapsed": true
   },
   "outputs": [],
   "source": [
    "print(\"Writing Mappings from integers to movie names\")\n",
    "with open('movies.txt', 'w') as f:\n",
    "    for i in timer(range(1, num_movies)):\n",
    "        f.write(\"%s\\n\" % mdict.encode(i))"
   ]
  }
 ],
 "metadata": {
  "anaconda-cloud": {},
  "kernelspec": {
   "display_name": "Python [conda root]",
   "language": "python",
   "name": "conda-root-py"
  },
  "language_info": {
   "codemirror_mode": {
    "name": "ipython",
    "version": 2
   },
   "file_extension": ".py",
   "mimetype": "text/x-python",
   "name": "python",
   "nbconvert_exporter": "python",
   "pygments_lexer": "ipython2",
   "version": "2.7.13"
  }
 },
 "nbformat": 4,
 "nbformat_minor": 2
}
