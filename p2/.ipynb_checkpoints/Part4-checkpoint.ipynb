{
 "cells": [
  {
   "cell_type": "markdown",
   "metadata": {},
   "source": [
    "Similarly, remove all movies with less than 5 actors/actresses on list, construct\n",
    "a movie network according to the set of actors/actresses, with weight assigned\n",
    "as the jaccard index of the actor sets of 2 movies. Now we have an undirected\n",
    "network instead."
   ]
  },
  {
   "cell_type": "code",
   "execution_count": 1,
   "metadata": {
    "collapsed": true
   },
   "outputs": [],
   "source": [
    "from tqdm import tqdm_notebook as timer\n",
    "import re\n",
    "import string"
   ]
  },
  {
   "cell_type": "code",
   "execution_count": 2,
   "metadata": {
    "collapsed": false
   },
   "outputs": [
    {
     "name": "stdout",
     "output_type": "stream",
     "text": [
      "\n"
     ]
    }
   ],
   "source": [
    "A = {}\n",
    "M = {}\n",
    "\n",
    "def clean_string(s):\n",
    "    # Remove (*)\n",
    "    s = re.sub(r'\\([^0-9]+\\)', '', s)\n",
    "\n",
    "    # Remove {*}\n",
    "    s = re.sub(r'\\{.*\\}', '', s)\n",
    "    \n",
    "    # Remove multiple spaces\n",
    "    s = re.sub(r'\\s+', ' ', s)\n",
    "\n",
    "    # Strip spaces etc\n",
    "    s = s.lstrip()\n",
    "    s = s.rstrip()\n",
    "\n",
    "    return s\n",
    "\n",
    "with open(\"movie_map.txt\", \"r\") as f:\n",
    "    for line in timer(f, total = 30396, desc=\"movie_map\"):\n",
    "        splits = line.split(\"\\t\\t\")\n",
    "        \n",
    "        actor_name = splits[0]\n",
    "        \n",
    "        actor_name = splits[0]\n",
    "        movies = set(map(clean_string, splits[1:]))\n",
    "        \n",
    "        if actor_name in A:\n",
    "            A[actor_name] = A[actor_name].union(movies)\n",
    "        else:\n",
    "            A[actor_name] = movies\n",
    "\n",
    "        for movie in movies:\n",
    "            if movie not in M:\n",
    "                M[movie] = [actor_name]\n",
    "            else:\n",
    "                M[movie].append(actor_name)"
   ]
  },
  {
   "cell_type": "code",
   "execution_count": 3,
   "metadata": {
    "collapsed": false
   },
   "outputs": [],
   "source": [
    "M = {movie : set(actors) for (movie, actors) in M.iteritems()}"
   ]
  },
  {
   "cell_type": "markdown",
   "metadata": {},
   "source": [
    "# Create a movie network"
   ]
  },
  {
   "cell_type": "code",
   "execution_count": 4,
   "metadata": {
    "collapsed": false
   },
   "outputs": [
    {
     "name": "stdout",
     "output_type": "stream",
     "text": [
      "\n"
     ]
    }
   ],
   "source": [
    "with open(\"movie_network.txt\", \"w\") as f:\n",
    "    for (m1, actors) in timer(M.iteritems(), total=len( M.keys() )):\n",
    "        edges = set()\n",
    "        \n",
    "        for a in actors:\n",
    "            for m2 in A[a]:\n",
    "                common = M[m1].intersection(M[m2])\n",
    "                \n",
    "                w = float( len( common ) ) / (len(M[m1]) + len(M[m2]) + len(common))\n",
    "                \n",
    "                edges.add( (m2, w) )\n",
    "        \n",
    "        for (m2, w) in edges:\n",
    "            f.write(\"%s\\t%s\\t%f\\n\" % (m1, m2, w))"
   ]
  },
  {
   "cell_type": "code",
   "execution_count": 5,
   "metadata": {
    "collapsed": false,
    "scrolled": true
   },
   "outputs": [
    {
     "name": "stdout",
     "output_type": "stream",
     "text": [
      " 55035189 movie_network.txt\n"
     ]
    }
   ],
   "source": [
    "%%bash\n",
    "# number of edges\n",
    "wc -l movie_network.txt"
   ]
  },
  {
   "cell_type": "markdown",
   "metadata": {},
   "source": [
    "# Process the movie genres"
   ]
  },
  {
   "cell_type": "code",
   "execution_count": 6,
   "metadata": {
    "collapsed": false
   },
   "outputs": [
    {
     "name": "stdout",
     "output_type": "stream",
     "text": [
      "\n"
     ]
    }
   ],
   "source": [
    "G = {}\n",
    "printable = set(string.printable)\n",
    "\n",
    "def clean_string(s):\n",
    "    # Remove (*)\n",
    "    s = re.sub(r'\\([^0-9]+\\)', '', s)\n",
    "\n",
    "    # Remove {*}\n",
    "    s = re.sub(r'\\{.*\\}', '', s)\n",
    "    \n",
    "    # Remove multiple spaces\n",
    "    s = re.sub(r'\\s+', ' ', s)\n",
    "\n",
    "    # Strip spaces etc\n",
    "    s = s.lstrip()\n",
    "    s = s.rstrip()\n",
    "\n",
    "    return s\n",
    "\n",
    "with open(\"data/movie_genre.txt\") as f:\n",
    "    for line in timer(f, total=1010991, desc=\"Movie Genres\"):\n",
    "        line = filter(lambda x : x in printable, line.decode('latin1')).encode('ascii')\n",
    "        \n",
    "        splits = line.split('\\t\\t')\n",
    "        movie = clean_string(splits[0])\n",
    "        genre = clean_string(splits[1])\n",
    "        \n",
    "        if movie in M:\n",
    "            G[movie] = genre"
   ]
  },
  {
   "cell_type": "code",
   "execution_count": 7,
   "metadata": {
    "collapsed": false
   },
   "outputs": [],
   "source": [
    "# For unidentified movies \n",
    "for m in set(M.keys()).difference(set(G.keys())):\n",
    "    G[m] = \"Unknown\""
   ]
  },
  {
   "cell_type": "code",
   "execution_count": 8,
   "metadata": {
    "collapsed": false
   },
   "outputs": [],
   "source": [
    "with open(\"genres.txt\", \"w\") as f:\n",
    "    for (movie, genre) in G.iteritems():\n",
    "        f.write(\"%s\\t%s\\n\" % (movie, genre))"
   ]
  },
  {
   "cell_type": "code",
   "execution_count": 9,
   "metadata": {
    "collapsed": true
   },
   "outputs": [],
   "source": [
    "vmap = {movie : i for (i, movie) in enumerate(M.keys())}\n",
    "rmap = {i : movie for (i, movie) in enumerate(M.keys())}"
   ]
  },
  {
   "cell_type": "markdown",
   "metadata": {},
   "source": [
    "# Write graph in Metis format"
   ]
  },
  {
   "cell_type": "code",
   "execution_count": 17,
   "metadata": {
    "collapsed": false
   },
   "outputs": [
    {
     "name": "stdout",
     "output_type": "stream",
     "text": [
      "\n"
     ]
    }
   ],
   "source": [
    "with open(\"metis/graph.txt\", \"w\") as f:\n",
    "    f.write(\"%d %d %d\\n\" % ( len(M.keys()),  55035189, 1)) # Replace with number of edges\n",
    "    \n",
    "    for (m1, actors) in timer(M.iteritems(), total=len( M.keys() )):\n",
    "        edges = set()\n",
    "        \n",
    "        for a in actors:\n",
    "            for m2 in A[a]:\n",
    "                common = M[m1].intersection(M[m2])\n",
    "                \n",
    "                w = float( len( common ) ) / (len(M[m1]) + len(M[m2]) + len(common))\n",
    "                \n",
    "                edges.add( (m2, w) )\n",
    "        \n",
    "        f.write(' '.join([str(vmap[m2]) + \" \" + str(w) for (m2, w) in edges]) + \"\\n\")"
   ]
  }
 ],
 "metadata": {
  "anaconda-cloud": {},
  "kernelspec": {
   "display_name": "Python [conda root]",
   "language": "python",
   "name": "conda-root-py"
  },
  "language_info": {
   "codemirror_mode": {
    "name": "ipython",
    "version": 2
   },
   "file_extension": ".py",
   "mimetype": "text/x-python",
   "name": "python",
   "nbconvert_exporter": "python",
   "pygments_lexer": "ipython2",
   "version": "2.7.13"
  },
  "widgets": {
   "state": {
    "3047b64cec9240e8b4641af59f1ccc07": {
     "views": [
      {
       "cell_index": 13
      }
     ]
    },
    "5b7a1ffe5bdf463cb2f6680f7da278a3": {
     "views": [
      {
       "cell_index": 5
      }
     ]
    },
    "b28112939b48430aab00e3e1f8a2fefc": {
     "views": [
      {
       "cell_index": 2
      }
     ]
    },
    "eeb84a0ea9364005a2c964a0501ce8f3": {
     "views": [
      {
       "cell_index": 8
      }
     ]
    }
   },
   "version": "1.2.0"
  }
 },
 "nbformat": 4,
 "nbformat_minor": 2
}
