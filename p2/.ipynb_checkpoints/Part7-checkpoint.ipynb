{
 "cells": [
  {
   "cell_type": "code",
   "execution_count": 2,
   "metadata": {
    "collapsed": false
   },
   "outputs": [],
   "source": [
    "library(data.table)\n",
    "library(igraph)"
   ]
  },
  {
   "cell_type": "markdown",
   "metadata": {},
   "source": [
    " Download the ratings list, derive a function to predict the ratings of the above 3\n",
    "movies using the movie network. (hint: try to use the ratings of neighbor movies\n",
    "and movies in the same community.)"
   ]
  },
  {
   "cell_type": "markdown",
   "metadata": {},
   "source": [
    "# Read in graph from Part 5"
   ]
  },
  {
   "cell_type": "code",
   "execution_count": 8,
   "metadata": {
    "collapsed": true
   },
   "outputs": [],
   "source": [
    "g = readRDS(\"rfiles/g.rds\")"
   ]
  },
  {
   "cell_type": "code",
   "execution_count": 9,
   "metadata": {
    "collapsed": false
   },
   "outputs": [],
   "source": [
    "ratings = fread(\"ratings.txt\")\n",
    "setkey(ratings, V1)"
   ]
  },
  {
   "cell_type": "code",
   "execution_count": 19,
   "metadata": {
    "collapsed": false
   },
   "outputs": [],
   "source": [
    "V(g)$rating = ratings[V(g)$name, ]$V2"
   ]
  },
  {
   "cell_type": "code",
   "execution_count": 21,
   "metadata": {
    "collapsed": false
   },
   "outputs": [
    {
     "data": {
      "text/html": [
       "8877"
      ],
      "text/latex": [
       "8877"
      ],
      "text/markdown": [
       "8877"
      ],
      "text/plain": [
       "[1] 8877"
      ]
     },
     "metadata": {},
     "output_type": "display_data"
    }
   ],
   "source": [
    "# Clearly a whole bunch of ratings are missing!\n",
    "sum( is.na( V(g)$rating ) )"
   ]
  },
  {
   "cell_type": "code",
   "execution_count": 58,
   "metadata": {
    "collapsed": true
   },
   "outputs": [],
   "source": [
    "movies = c(\n",
    "    \"Batman v Superman: Dawn of Justice (2016)\",\n",
    "    \"Mission: Impossible III (2006)\",\n",
    "    \"Minions (2015)\"\n",
    ")"
   ]
  },
  {
   "cell_type": "code",
   "execution_count": 59,
   "metadata": {
    "collapsed": false
   },
   "outputs": [],
   "source": [
    "vids = sapply(movies, function(x){ which( V(g)$name == x) })"
   ]
  },
  {
   "cell_type": "code",
   "execution_count": 34,
   "metadata": {
    "collapsed": true
   },
   "outputs": [],
   "source": [
    "get_neighbors = function(v, k = NULL) {\n",
    "    ns = neighbors(g, v)\n",
    "    \n",
    "    if(is.null( k )){\n",
    "        return( ns )\n",
    "    }\n",
    "    else{\n",
    "        ws = sapply(ns, function(x){ edge_attr(g, \"weight\", get.edge.ids(g, c(v, x))) })\n",
    "        ns[ order(ws, decreasing = TRUE) ][1 : min(length(ns), k)]\n",
    "    }\n",
    "}\n",
    "\n",
    "get_nearest_neighbor_average = function(x){\n",
    "    nns = get_neighbors(x, 20)\n",
    "    mean( na.omit( V(g)$rating[nns] ) )\n",
    "}\n",
    "\n",
    "get_all_neighbor_average = function(x){\n",
    "    ns = get_neighbors(x)\n",
    "    mean( na.omit( V(g)$rating[ns] ) )\n",
    "}"
   ]
  },
  {
   "cell_type": "code",
   "execution_count": 49,
   "metadata": {
    "collapsed": false
   },
   "outputs": [
    {
     "data": {
      "text/html": [
       "<ol class=list-inline>\n",
       "\t<li>6.7</li>\n",
       "\t<li>6.8</li>\n",
       "\t<li>6.4</li>\n",
       "</ol>\n"
      ],
      "text/latex": [
       "\\begin{enumerate*}\n",
       "\\item 6.7\n",
       "\\item 6.8\n",
       "\\item 6.4\n",
       "\\end{enumerate*}\n"
      ],
      "text/markdown": [
       "1. 6.7\n",
       "2. 6.8\n",
       "3. 6.4\n",
       "\n",
       "\n"
      ],
      "text/plain": [
       "[1] 6.7 6.8 6.4"
      ]
     },
     "metadata": {},
     "output_type": "display_data"
    }
   ],
   "source": [
    "actual_ratings = c(6.7, 6.8, 6.4)"
   ]
  },
  {
   "cell_type": "code",
   "execution_count": 30,
   "metadata": {
    "collapsed": false
   },
   "outputs": [
    {
     "data": {
      "text/html": [
       "<ol class=list-inline>\n",
       "\t<li>6.45621812475481</li>\n",
       "\t<li>6.45621812475481</li>\n",
       "\t<li>6.45621812475481</li>\n",
       "</ol>\n"
      ],
      "text/latex": [
       "\\begin{enumerate*}\n",
       "\\item 6.45621812475481\n",
       "\\item 6.45621812475481\n",
       "\\item 6.45621812475481\n",
       "\\end{enumerate*}\n"
      ],
      "text/markdown": [
       "1. 6.45621812475481\n",
       "2. 6.45621812475481\n",
       "3. 6.45621812475481\n",
       "\n",
       "\n"
      ],
      "text/plain": [
       "[1] 6.456218 6.456218 6.456218"
      ]
     },
     "metadata": {},
     "output_type": "display_data"
    }
   ],
   "source": [
    "community_average_ratings = sapply(vids, function(x){\n",
    "    mean( na.omit( V(g)$ratings[ which( V(g)$comm.id[x] == V(g)$comm.id ) ] ) )\n",
    "})"
   ]
  },
  {
   "cell_type": "code",
   "execution_count": 40,
   "metadata": {
    "collapsed": false
   },
   "outputs": [],
   "source": [
    "nearest_neighbor_average_ratings = sapply(vids, function(x){\n",
    "    mean( na.omit( V(g)$rating[get_neighbors(x, 20)] ) )\n",
    "})"
   ]
  },
  {
   "cell_type": "code",
   "execution_count": 41,
   "metadata": {
    "collapsed": true
   },
   "outputs": [],
   "source": [
    "all_neighbor_average_ratings = sapply(vids, function(x){\n",
    "    mean( na.omit( V(g)$rating[get_neighbors(x)] ) )\n",
    "})"
   ]
  },
  {
   "cell_type": "code",
   "execution_count": 55,
   "metadata": {
    "collapsed": false
   },
   "outputs": [],
   "source": [
    "combined_ratings = community_average_ratings + nearest_neighbor_average_ratings + all_neighbor_average_ratings\n",
    "combined_ratings = sapply(combined_ratings, function(x){ x / 3})"
   ]
  },
  {
   "cell_type": "code",
   "execution_count": 60,
   "metadata": {
    "collapsed": false
   },
   "outputs": [
    {
     "data": {
      "text/html": [
       "<table>\n",
       "<thead><tr><th scope=col>Movie</th><th scope=col>Actual</th><th scope=col>Community</th><th scope=col>Nearest Neighbors</th><th scope=col>All Neighbors</th><th scope=col>Combined</th></tr></thead>\n",
       "<tbody>\n",
       "\t<tr><td>Batman v Superman: Dawn of Justice (2016)</td><td>6.7                                      </td><td>6.456218                                 </td><td>6.550000                                 </td><td>6.645455                                 </td><td>6.550558                                 </td></tr>\n",
       "\t<tr><td>Mission: Impossible III (2006)           </td><td>6.8                                      </td><td>6.456218                                 </td><td>6.836842                                 </td><td>6.528444                                 </td><td>6.607168                                 </td></tr>\n",
       "\t<tr><td>Minions (2015)                           </td><td>6.4                                      </td><td>6.456218                                 </td><td>7.270000                                 </td><td>7.010444                                 </td><td>6.912221                                 </td></tr>\n",
       "</tbody>\n",
       "</table>\n"
      ],
      "text/latex": [
       "\\begin{tabular}{r|llllll}\n",
       " Movie & Actual & Community & Nearest Neighbors & All Neighbors & Combined\\\\\n",
       "\\hline\n",
       "\t Batman v Superman: Dawn of Justice (2016) & 6.7                                       & 6.456218                                  & 6.550000                                  & 6.645455                                  & 6.550558                                 \\\\\n",
       "\t Mission: Impossible III (2006)            & 6.8                                       & 6.456218                                  & 6.836842                                  & 6.528444                                  & 6.607168                                 \\\\\n",
       "\t Minions (2015)                            & 6.4                                       & 6.456218                                  & 7.270000                                  & 7.010444                                  & 6.912221                                 \\\\\n",
       "\\end{tabular}\n"
      ],
      "text/markdown": [
       "\n",
       "Movie | Actual | Community | Nearest Neighbors | All Neighbors | Combined | \n",
       "|---|---|---|\n",
       "| Batman v Superman: Dawn of Justice (2016) | 6.7                                       | 6.456218                                  | 6.550000                                  | 6.645455                                  | 6.550558                                  | \n",
       "| Mission: Impossible III (2006)            | 6.8                                       | 6.456218                                  | 6.836842                                  | 6.528444                                  | 6.607168                                  | \n",
       "| Minions (2015)                            | 6.4                                       | 6.456218                                  | 7.270000                                  | 7.010444                                  | 6.912221                                  | \n",
       "\n",
       "\n"
      ],
      "text/plain": [
       "  Movie                                     Actual Community Nearest Neighbors\n",
       "1 Batman v Superman: Dawn of Justice (2016) 6.7    6.456218  6.550000         \n",
       "2 Mission: Impossible III (2006)            6.8    6.456218  6.836842         \n",
       "3 Minions (2015)                            6.4    6.456218  7.270000         \n",
       "  All Neighbors Combined\n",
       "1 6.645455      6.550558\n",
       "2 6.528444      6.607168\n",
       "3 7.010444      6.912221"
      ]
     },
     "metadata": {},
     "output_type": "display_data"
    }
   ],
   "source": [
    "data.table(\n",
    "    Movie = movies,\n",
    "    Actual = actual_ratings,\n",
    "    Community = community_average_ratings,\n",
    "    `Nearest Neighbors` = nearest_neighbor_average_ratings,\n",
    "    `All Neighbors` = all_neighbor_average_ratings,\n",
    "    Combined = combined_ratings\n",
    ")"
   ]
  }
 ],
 "metadata": {
  "anaconda-cloud": {},
  "kernelspec": {
   "display_name": "R",
   "language": "R",
   "name": "ir"
  },
  "language_info": {
   "codemirror_mode": "r",
   "file_extension": ".r",
   "mimetype": "text/x-r-source",
   "name": "R",
   "pygments_lexer": "r",
   "version": "3.3.1"
  }
 },
 "nbformat": 4,
 "nbformat_minor": 2
}
